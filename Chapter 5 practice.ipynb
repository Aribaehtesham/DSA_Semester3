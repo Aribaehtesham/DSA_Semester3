{
 "cells": [
  {
   "cell_type": "code",
   "execution_count": 14,
   "metadata": {},
   "outputs": [],
   "source": [
    "class ScoreBoard  :\n",
    "    def _init_(self,capacity=10):\n",
    "        self._board=[0]*capacity\n",
    "        self._n=0\n",
    "    def __getitem__(self,k):\n",
    "        return self._board[k]\n",
    "    def __str__(self):\n",
    "        return '\\n'.join(str(self._board[j] for j in range (self._n)))\n",
    "    def getscore(self):\n",
    "        return self._score\n",
    "    def add(self,entry):\n",
    "        score=entry.getscore()\n",
    "        good= self._n < len(self._board) or score > self._board[-1].getscore()\n",
    "        if good:\n",
    "            if self._n<len(self._board):\n",
    "                self._n+=1\n",
    "            j=self._n-1\n",
    "            while j>0 and self._board[j-1]<score:\n",
    "                self._board[j]=self._board[j+1]\n",
    "                j-=1\n",
    "            self._board[j]=entry\n",
    "    def print_fun(self):\n",
    "        print ( self._board)"
   ]
  },
  {
   "cell_type": "code",
   "execution_count": 15,
   "metadata": {},
   "outputs": [],
   "source": [
    "chess = ScoreBoard()"
   ]
  },
  {
   "cell_type": "code",
   "execution_count": 16,
   "metadata": {},
   "outputs": [
    {
     "ename": "NameError",
     "evalue": "name 'getscore' is not defined",
     "output_type": "error",
     "traceback": [
      "\u001b[1;31m---------------------------------------------------------------------------\u001b[0m",
      "\u001b[1;31mNameError\u001b[0m                                 Traceback (most recent call last)",
      "\u001b[1;32m<ipython-input-16-9459055170f8>\u001b[0m in \u001b[0;36m<module>\u001b[1;34m()\u001b[0m\n\u001b[1;32m----> 1\u001b[1;33m \u001b[0mchess\u001b[0m\u001b[1;33m.\u001b[0m\u001b[0madd\u001b[0m\u001b[1;33m(\u001b[0m\u001b[1;36m30\u001b[0m\u001b[1;33m)\u001b[0m\u001b[1;33m\u001b[0m\u001b[0m\n\u001b[0m",
      "\u001b[1;32m<ipython-input-14-b82bea7b0c05>\u001b[0m in \u001b[0;36madd\u001b[1;34m(self, entry)\u001b[0m\n\u001b[0;32m     10\u001b[0m         \u001b[1;32mreturn\u001b[0m \u001b[0mself\u001b[0m\u001b[1;33m.\u001b[0m\u001b[0m_score\u001b[0m\u001b[1;33m\u001b[0m\u001b[0m\n\u001b[0;32m     11\u001b[0m     \u001b[1;32mdef\u001b[0m \u001b[0madd\u001b[0m\u001b[1;33m(\u001b[0m\u001b[0mself\u001b[0m\u001b[1;33m,\u001b[0m\u001b[0mentry\u001b[0m\u001b[1;33m)\u001b[0m\u001b[1;33m:\u001b[0m\u001b[1;33m\u001b[0m\u001b[0m\n\u001b[1;32m---> 12\u001b[1;33m         \u001b[0mscore\u001b[0m\u001b[1;33m=\u001b[0m\u001b[0mgetscore\u001b[0m\u001b[1;33m(\u001b[0m\u001b[1;33m)\u001b[0m\u001b[1;33m\u001b[0m\u001b[0m\n\u001b[0m\u001b[0;32m     13\u001b[0m         \u001b[0mgood\u001b[0m\u001b[1;33m=\u001b[0m \u001b[0mself\u001b[0m\u001b[1;33m.\u001b[0m\u001b[0m_n\u001b[0m \u001b[1;33m<\u001b[0m \u001b[0mlen\u001b[0m\u001b[1;33m(\u001b[0m\u001b[0mself\u001b[0m\u001b[1;33m.\u001b[0m\u001b[0m_board\u001b[0m\u001b[1;33m)\u001b[0m \u001b[1;32mor\u001b[0m \u001b[0mscore\u001b[0m \u001b[1;33m>\u001b[0m \u001b[0mself\u001b[0m\u001b[1;33m.\u001b[0m\u001b[0m_board\u001b[0m\u001b[1;33m[\u001b[0m\u001b[1;33m-\u001b[0m\u001b[1;36m1\u001b[0m\u001b[1;33m]\u001b[0m\u001b[1;33m.\u001b[0m\u001b[0mgetscore\u001b[0m\u001b[1;33m(\u001b[0m\u001b[1;33m)\u001b[0m\u001b[1;33m\u001b[0m\u001b[0m\n\u001b[0;32m     14\u001b[0m         \u001b[1;32mif\u001b[0m \u001b[0mgood\u001b[0m\u001b[1;33m:\u001b[0m\u001b[1;33m\u001b[0m\u001b[0m\n",
      "\u001b[1;31mNameError\u001b[0m: name 'getscore' is not defined"
     ]
    }
   ],
   "source": [
    "chess.add(\"Ali\")"
   ]
  },
  {
   "cell_type": "code",
   "execution_count": 23,
   "metadata": {},
   "outputs": [
    {
     "name": "stdout",
     "output_type": "stream",
     "text": [
      "After considering (Muhammad, 750), scoreboard is:\n",
      "(Muhammad, 750)\n",
      "\n",
      "After considering (Ariba, 1105), scoreboard is:\n",
      "(Ariba, 1105)\n",
      "(Muhammad, 750)\n",
      "\n",
      "After considering (Talha, 590), scoreboard is:\n",
      "(Ariba, 1105)\n",
      "(Muhammad, 750)\n",
      "(Talha, 590)\n",
      "\n",
      "After considering (Jalal, 740), scoreboard is:\n",
      "(Ariba, 1105)\n",
      "(Muhammad, 750)\n",
      "(Jalal, 740)\n",
      "(Talha, 590)\n",
      "\n",
      "After considering (Azam, 510), scoreboard is:\n",
      "(Ariba, 1105)\n",
      "(Muhammad, 750)\n",
      "(Jalal, 740)\n",
      "(Talha, 590)\n",
      "(Azam, 510)\n",
      "\n",
      "After considering (Mah, 660), scoreboard is:\n",
      "(Ariba, 1105)\n",
      "(Muhammad, 750)\n",
      "(Jalal, 740)\n",
      "(Mah, 660)\n",
      "(Talha, 590)\n",
      "\n",
      "After considering (Ahmed, 720), scoreboard is:\n",
      "(Ariba, 1105)\n",
      "(Muhammad, 750)\n",
      "(Jalal, 740)\n",
      "(Ahmed, 720)\n",
      "(Mah, 660)\n",
      "\n",
      "After considering (Fatima, 400), scoreboard is:\n",
      "(Ariba, 1105)\n",
      "(Muhammad, 750)\n",
      "(Jalal, 740)\n",
      "(Ahmed, 720)\n",
      "(Fatima, 400)\n",
      "\n"
     ]
    }
   ],
   "source": [
    "class GameEntry:\n",
    "    def __init__(self, name, score):\n",
    "        self._name = name\n",
    "        self._score = score\n",
    "\n",
    "    def get_name(self):\n",
    "        return self._name\n",
    "    \n",
    "    def get_score(self):\n",
    "        return self._score\n",
    "\n",
    "    def __str__(self):\n",
    "        return '({0}, {1})'.format(self._name, self._score) # e.g., '(Bob, 98)'\n",
    "\n",
    "class Scoreboard:\n",
    "\n",
    "    def __init__(self, capacity=10):\n",
    "        self._board = [None] * capacity        # reserve space for future scores\n",
    "        self._n = 0                            # number of actual entries\n",
    "\n",
    "    def __getitem__(self, k):\n",
    "        return self._board[k]\n",
    "\n",
    "    def __str__(self):\n",
    "        return '\\n'.join(str(self._board[j]) for j in range(self._n))\n",
    "\n",
    "    def add(self, entry):\n",
    "        score = entry.get_score()\n",
    "\n",
    "        good = self._n < len(self._board) or score > self._board[-1].get_score()\n",
    "\n",
    "        if good:\n",
    "            if self._n < len(self._board):        \n",
    "                self._n += 1\n",
    "        j = self._n - 1\n",
    "        while j > 0 and self._board[j-1].get_score() < score:\n",
    "            self._board[j] = self._board[j-1]\n",
    "            j -= 1\n",
    "        self._board[j] = entry\n",
    "\n",
    "if __name__ == '__main__':\n",
    "    board = Scoreboard(5)\n",
    "    for e in (\n",
    "        ('Muhammad', 750), ('Ariba',1105), ('Talha', 590), ('Jalal', 740),\n",
    "        ('Azam', 510), ('Mah', 660), ('Ahmed', 720), ('Fatima', 400),\n",
    "        ):\n",
    "        ge = GameEntry(e[0], e[1])\n",
    "        board.add(ge)\n",
    "        print('After considering {0}, scoreboard is:'.format(ge))\n",
    "        print(board)\n",
    "        print()"
   ]
  },
  {
   "cell_type": "code",
   "execution_count": null,
   "metadata": {},
   "outputs": [],
   "source": []
  }
 ],
 "metadata": {
  "kernelspec": {
   "display_name": "Python 3",
   "language": "python",
   "name": "python3"
  },
  "language_info": {
   "codemirror_mode": {
    "name": "ipython",
    "version": 3
   },
   "file_extension": ".py",
   "mimetype": "text/x-python",
   "name": "python",
   "nbconvert_exporter": "python",
   "pygments_lexer": "ipython3",
   "version": "3.6.5"
  }
 },
 "nbformat": 4,
 "nbformat_minor": 2
}
