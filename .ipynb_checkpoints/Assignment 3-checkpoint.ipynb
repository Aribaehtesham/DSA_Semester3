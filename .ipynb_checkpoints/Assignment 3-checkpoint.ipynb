{
 "cells": [
  {
   "cell_type": "markdown",
   "metadata": {},
   "source": [
    " Write a Python class, Flower, that has three instance variables of type str, int, andﬂoat, that respectively represent the name of the ﬂower, its number of petals, and its price. Your class must include a constructor method that initializes each variable to anappropriate value, andyour class should include methods forsetting thevalue ofeach type, andretrieving thevalue of each type. "
   ]
  },
  {
   "cell_type": "code",
   "execution_count": 7,
   "metadata": {},
   "outputs": [
    {
     "name": "stdout",
     "output_type": "stream",
     "text": [
      "Enter Name: Rose\n",
      "Enter Number of Petals: 23\n",
      "Enter Price: 2.3\n",
      "Name of flower is: Rose\n",
      "Number of Petals are:  23\n",
      "Price is:  2.3\n"
     ]
    }
   ],
   "source": [
    "class Flower():\n",
    "    def __init__(self):#,name = '',petal = 0,price = 0.0):\n",
    "        self.name = ''\n",
    "        self.petal = 0\n",
    "        self.price = 0.0\n",
    "    def setName(self):\n",
    "        self.name = input(\"Enter Name: \")\n",
    "    def setPetal(self):\n",
    "        self.petal = int(input(\"Enter Number of Petals: \"))\n",
    "    def setPrice(self):\n",
    "        self.price = (float(input(\"Enter Price: \")))\n",
    "    def showName(self):\n",
    "        print(\"Name of flower is:\",self.name)\n",
    "    def showPetal(self):\n",
    "        print(\"Number of Petals are: \", str(self.petal))\n",
    "    def showPrice(self):\n",
    "        print(\"Price is: \",str(self.price))\n",
    "\n",
    "rose = Flower()\n",
    "rose.setName()\n",
    "rose.setPetal()\n",
    "rose.setPrice()\n",
    "rose.showName()\n",
    "rose.showPetal()\n",
    "rose.showPrice()"
   ]
  },
  {
   "cell_type": "markdown",
   "metadata": {},
   "source": [
    " Use the techniques of Section 1.7 to revise the charge and make payment methods of the CreditCard class to ensure that the caller sends a number as a parameter. "
   ]
  },
  {
   "cell_type": "code",
   "execution_count": 18,
   "metadata": {},
   "outputs": [],
   "source": [
    " class CreditCard:\n",
    "        def __init__(self, customer, bank, acnt, limit): \n",
    "            self._customer = customer \n",
    "            self._bank = bank\n",
    "            self._account = acnt\n",
    "            self._limit = limit \n",
    "            self._balance = 0\n",
    "        def get_customer(self):\n",
    "            return self._customer\n",
    "        def get_bank(self):\n",
    "            return self._bank\n",
    "        def get_account(self):\n",
    "            return self._account\n",
    "        def get_limit(self):\n",
    "            return self._limit\n",
    "        def get_balance(self):\n",
    "            return self._balance\n",
    "        def charge(self, price): \n",
    "            if price + self._balance > self._limit:\n",
    "                return False \n",
    "            else:\n",
    "                self._balance += price \n",
    "                return True\n",
    "        def make_payment(self, amount):\n",
    "            self._balance -= amount "
   ]
  },
  {
   "cell_type": "code",
   "execution_count": 19,
   "metadata": {},
   "outputs": [
    {
     "name": "stdout",
     "output_type": "stream",
     "text": [
      "Customer =  John Bowman\n",
      "Bank =  California Savings\n",
      "Account = 5391 0375 9387 5309\n",
      "Limit = 2500\n",
      "Balance = 136\n",
      "New_balance = 36\n",
      "\n",
      "Customer =  John Bowman\n",
      "Bank =  California Federal\n",
      "Account = 3485 0399 3395 1954\n",
      "Limit = 3500\n",
      "Balance = 272\n",
      "New_balance = 172\n",
      "New_balance = 72\n",
      "\n",
      "Customer =  John Bowman\n",
      "Bank =  California Finance\n",
      "Account = 5391 0375 9387 5309\n",
      "Limit = 5000\n",
      "Balance = 408\n",
      "New_balance = 308\n",
      "New_balance = 208\n",
      "New_balance = 108\n",
      "New_balance = 8\n",
      "\n"
     ]
    }
   ],
   "source": [
    "wallet = [ ]\n",
    "wallet.append(CreditCard( 'John Bowman' , 'California Savings' , '5391 0375 9387 5309' , 2500) )\n",
    "wallet.append(CreditCard( 'John Bowman' , 'California Federal' , '3485 0399 3395 1954' , 3500) )\n",
    "wallet.append(CreditCard( 'John Bowman' , 'California Finance' , '5391 0375 9387 5309' , 5000) ) \n",
    "for val in range(1, 17):\n",
    "    wallet[0].charge(val)\n",
    "    wallet[1].charge(2*val)\n",
    "    wallet[2].charge(3*val)\n",
    "for c in range(3):\n",
    "    print( 'Customer = ', wallet[c].get_customer())\n",
    "    print( 'Bank = ', wallet[c].get_bank())\n",
    "    print( 'Account =' , wallet[c].get_account())\n",
    "    print( 'Limit =' , wallet[c].get_limit())\n",
    "    print( 'Balance =' , wallet[c].get_balance()) \n",
    "    while wallet[c].get_balance( ) > 100:\n",
    "        wallet[c].make_payment(100) \n",
    "        print( 'New_balance =' , wallet[c].get_balance()) \n",
    "    print()\n"
   ]
  },
  {
   "cell_type": "code",
   "execution_count": null,
   "metadata": {},
   "outputs": [],
   "source": []
  }
 ],
 "metadata": {
  "kernelspec": {
   "display_name": "Python 3",
   "language": "python",
   "name": "python3"
  },
  "language_info": {
   "codemirror_mode": {
    "name": "ipython",
    "version": 3
   },
   "file_extension": ".py",
   "mimetype": "text/x-python",
   "name": "python",
   "nbconvert_exporter": "python",
   "pygments_lexer": "ipython3",
   "version": "3.6.5"
  }
 },
 "nbformat": 4,
 "nbformat_minor": 2
}
