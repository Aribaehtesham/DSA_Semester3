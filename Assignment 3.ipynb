{
 "cells": [
  {
   "cell_type": "markdown",
   "metadata": {},
   "source": [
    "#### 2.4"
   ]
  },
  {
   "cell_type": "markdown",
   "metadata": {},
   "source": [
    " Write a Python class, Flower, that has three instance variables of type str, int, andﬂoat, that respectively represent the name of the ﬂower, its number of petals, and its price. Your class must include a constructor method that initializes each variable to anappropriate value, andyour class should include methods forsetting thevalue ofeach type, andretrieving thevalue of each type. "
   ]
  },
  {
   "cell_type": "code",
   "execution_count": 7,
   "metadata": {},
   "outputs": [
    {
     "name": "stdout",
     "output_type": "stream",
     "text": [
      "Enter Name: Rose\n",
      "Enter Number of Petals: 23\n",
      "Enter Price: 2.3\n",
      "Name of flower is: Rose\n",
      "Number of Petals are:  23\n",
      "Price is:  2.3\n"
     ]
    }
   ],
   "source": [
    "class Flower():\n",
    "    def __init__(self):#,name = '',petal = 0,price = 0.0):\n",
    "        self.name = ''\n",
    "        self.petal = 0\n",
    "        self.price = 0.0\n",
    "    def setName(self):\n",
    "        self.name = input(\"Enter Name: \")\n",
    "    def setPetal(self):\n",
    "        self.petal = int(input(\"Enter Number of Petals: \"))\n",
    "    def setPrice(self):\n",
    "        self.price = (float(input(\"Enter Price: \")))\n",
    "    def showName(self):\n",
    "        print(\"Name of flower is:\",self.name)\n",
    "    def showPetal(self):\n",
    "        print(\"Number of Petals are: \", str(self.petal))\n",
    "    def showPrice(self):\n",
    "        print(\"Price is: \",str(self.price))\n",
    "\n",
    "rose = Flower()\n",
    "rose.setName()\n",
    "rose.setPetal()\n",
    "rose.setPrice()\n",
    "rose.showName()\n",
    "rose.showPetal()\n",
    "rose.showPrice()"
   ]
  },
  {
   "cell_type": "markdown",
   "metadata": {},
   "source": [
    "#### 2.5"
   ]
  },
  {
   "cell_type": "markdown",
   "metadata": {},
   "source": [
    " Use the techniques of Section 1.7 to revise the charge and make payment methods of the CreditCard class to ensure that the caller sends a number as a parameter. "
   ]
  },
  {
   "cell_type": "code",
   "execution_count": 18,
   "metadata": {},
   "outputs": [],
   "source": [
    " class CreditCard:\n",
    "        def __init__(self, customer, bank, acnt, limit): \n",
    "            self._customer = customer \n",
    "            self._bank = bank\n",
    "            self._account = acnt\n",
    "            self._limit = limit \n",
    "            self._balance = 0\n",
    "        def get_customer(self):\n",
    "            return self._customer\n",
    "        def get_bank(self):\n",
    "            return self._bank\n",
    "        def get_account(self):\n",
    "            return self._account\n",
    "        def get_limit(self):\n",
    "            return self._limit\n",
    "        def get_balance(self):\n",
    "            return self._balance\n",
    "        def charge(self, price): \n",
    "            if price + self._balance > self._limit:\n",
    "                return False \n",
    "            else:\n",
    "                self._balance += price \n",
    "                return True\n",
    "        def make_payment(self, amount):\n",
    "            self._balance -= amount "
   ]
  },
  {
   "cell_type": "code",
   "execution_count": 19,
   "metadata": {},
   "outputs": [
    {
     "name": "stdout",
     "output_type": "stream",
     "text": [
      "Customer =  John Bowman\n",
      "Bank =  California Savings\n",
      "Account = 5391 0375 9387 5309\n",
      "Limit = 2500\n",
      "Balance = 136\n",
      "New_balance = 36\n",
      "\n",
      "Customer =  John Bowman\n",
      "Bank =  California Federal\n",
      "Account = 3485 0399 3395 1954\n",
      "Limit = 3500\n",
      "Balance = 272\n",
      "New_balance = 172\n",
      "New_balance = 72\n",
      "\n",
      "Customer =  John Bowman\n",
      "Bank =  California Finance\n",
      "Account = 5391 0375 9387 5309\n",
      "Limit = 5000\n",
      "Balance = 408\n",
      "New_balance = 308\n",
      "New_balance = 208\n",
      "New_balance = 108\n",
      "New_balance = 8\n",
      "\n"
     ]
    }
   ],
   "source": [
    "wallet = [ ]\n",
    "wallet.append(CreditCard( 'John Bowman' , 'California Savings' , '5391 0375 9387 5309' , 2500) )\n",
    "wallet.append(CreditCard( 'John Bowman' , 'California Federal' , '3485 0399 3395 1954' , 3500) )\n",
    "wallet.append(CreditCard( 'John Bowman' , 'California Finance' , '5391 0375 9387 5309' , 5000) ) \n",
    "for val in range(1, 17):\n",
    "    wallet[0].charge(val)\n",
    "    wallet[1].charge(2*val)\n",
    "    wallet[2].charge(3*val)\n",
    "for c in range(3):\n",
    "    print( 'Customer = ', wallet[c].get_customer())\n",
    "    print( 'Bank = ', wallet[c].get_bank())\n",
    "    print( 'Account =' , wallet[c].get_account())\n",
    "    print( 'Limit =' , wallet[c].get_limit())\n",
    "    print( 'Balance =' , wallet[c].get_balance()) \n",
    "    while wallet[c].get_balance( ) > 100:\n",
    "        wallet[c].make_payment(100) \n",
    "        print( 'New_balance =' , wallet[c].get_balance()) \n",
    "    print()\n"
   ]
  },
  {
   "cell_type": "markdown",
   "metadata": {},
   "source": [
    "<h4> 2.6"
   ]
  },
  {
   "cell_type": "markdown",
   "metadata": {},
   "source": [
    "If the parameter to the make payment method of the CreditCard class were a negative number, that would have the effect of raising the balance on the account. Revise the implementation so that it raises aValueError if a negative value is sent. "
   ]
  },
  {
   "cell_type": "code",
   "execution_count": 20,
   "metadata": {},
   "outputs": [
    {
     "name": "stdout",
     "output_type": "stream",
     "text": [
      "Customer =  John Bowman\n",
      "Bank =  California Savings\n",
      "Account = 5391 0375 9387 5309\n",
      "Limit = 2500\n",
      "Balance = 136\n"
     ]
    },
    {
     "ename": "ValueError",
     "evalue": "Only Positive Amount shall be entered ",
     "output_type": "error",
     "traceback": [
      "\u001b[1;31m---------------------------------------------------------------------------\u001b[0m",
      "\u001b[1;31mValueError\u001b[0m                                Traceback (most recent call last)",
      "\u001b[1;32m<ipython-input-20-af036b450539>\u001b[0m in \u001b[0;36m<module>\u001b[1;34m()\u001b[0m\n\u001b[0;32m     42\u001b[0m    \u001b[0mprint\u001b[0m\u001b[1;33m(\u001b[0m \u001b[1;34m'Balance ='\u001b[0m \u001b[1;33m,\u001b[0m \u001b[0mwallet\u001b[0m\u001b[1;33m[\u001b[0m\u001b[0mc\u001b[0m\u001b[1;33m]\u001b[0m\u001b[1;33m.\u001b[0m\u001b[0mget_balance\u001b[0m\u001b[1;33m(\u001b[0m\u001b[1;33m)\u001b[0m\u001b[1;33m)\u001b[0m\u001b[1;33m\u001b[0m\u001b[0m\n\u001b[0;32m     43\u001b[0m    \u001b[1;32mwhile\u001b[0m \u001b[0mwallet\u001b[0m\u001b[1;33m[\u001b[0m\u001b[0mc\u001b[0m\u001b[1;33m]\u001b[0m\u001b[1;33m.\u001b[0m\u001b[0mget_balance\u001b[0m\u001b[1;33m(\u001b[0m \u001b[1;33m)\u001b[0m \u001b[1;33m>\u001b[0m \u001b[1;36m100\u001b[0m\u001b[1;33m:\u001b[0m\u001b[1;33m\u001b[0m\u001b[0m\n\u001b[1;32m---> 44\u001b[1;33m        \u001b[0mwallet\u001b[0m\u001b[1;33m[\u001b[0m\u001b[0mc\u001b[0m\u001b[1;33m]\u001b[0m\u001b[1;33m.\u001b[0m\u001b[0mmake_payment\u001b[0m\u001b[1;33m(\u001b[0m\u001b[1;33m-\u001b[0m\u001b[1;36m100\u001b[0m\u001b[1;33m)\u001b[0m\u001b[1;33m\u001b[0m\u001b[0m\n\u001b[0m\u001b[0;32m     45\u001b[0m        \u001b[0mprint\u001b[0m\u001b[1;33m(\u001b[0m \u001b[1;34m'New_balance ='\u001b[0m \u001b[1;33m,\u001b[0m \u001b[0mwallet\u001b[0m\u001b[1;33m[\u001b[0m\u001b[0mc\u001b[0m\u001b[1;33m]\u001b[0m\u001b[1;33m.\u001b[0m\u001b[0mget_balance\u001b[0m\u001b[1;33m(\u001b[0m\u001b[1;33m)\u001b[0m\u001b[1;33m)\u001b[0m\u001b[1;33m\u001b[0m\u001b[0m\n\u001b[0;32m     46\u001b[0m    \u001b[0mprint\u001b[0m\u001b[1;33m(\u001b[0m\u001b[1;33m)\u001b[0m\u001b[1;33m\u001b[0m\u001b[0m\n",
      "\u001b[1;32m<ipython-input-20-af036b450539>\u001b[0m in \u001b[0;36mmake_payment\u001b[1;34m(self, amount)\u001b[0m\n\u001b[0;32m     24\u001b[0m        \u001b[1;32mdef\u001b[0m \u001b[0mmake_payment\u001b[0m\u001b[1;33m(\u001b[0m\u001b[0mself\u001b[0m\u001b[1;33m,\u001b[0m \u001b[0mamount\u001b[0m\u001b[1;33m)\u001b[0m\u001b[1;33m:\u001b[0m\u001b[1;33m\u001b[0m\u001b[0m\n\u001b[0;32m     25\u001b[0m            \u001b[1;32mif\u001b[0m \u001b[0mamount\u001b[0m \u001b[1;33m<\u001b[0m \u001b[1;36m0\u001b[0m\u001b[1;33m:\u001b[0m\u001b[1;33m\u001b[0m\u001b[0m\n\u001b[1;32m---> 26\u001b[1;33m                \u001b[1;32mraise\u001b[0m \u001b[0mValueError\u001b[0m\u001b[1;33m(\u001b[0m\u001b[1;34m'Only Positive Amount shall be entered '\u001b[0m\u001b[1;33m)\u001b[0m\u001b[1;33m\u001b[0m\u001b[0m\n\u001b[0m\u001b[0;32m     27\u001b[0m            \u001b[0mself\u001b[0m\u001b[1;33m.\u001b[0m\u001b[0m_balance\u001b[0m \u001b[1;33m-=\u001b[0m \u001b[0mamount\u001b[0m\u001b[1;33m\u001b[0m\u001b[0m\n\u001b[0;32m     28\u001b[0m \u001b[1;33m\u001b[0m\u001b[0m\n",
      "\u001b[1;31mValueError\u001b[0m: Only Positive Amount shall be entered "
     ]
    }
   ],
   "source": [
    " class CreditCard:\n",
    "        def __init__(self, customer, bank, acnt, limit): \n",
    "            self._customer = customer \n",
    "            self._bank = bank\n",
    "            self._account = acnt\n",
    "            self._limit = limit \n",
    "            self._balance = 0\n",
    "        def get_customer(self):\n",
    "            return self._customer\n",
    "        def get_bank(self):\n",
    "            return self._bank\n",
    "        def get_account(self):\n",
    "            return self._account\n",
    "        def get_limit(self):\n",
    "            return self._limit\n",
    "        def get_balance(self):\n",
    "            return self._balance\n",
    "        def charge(self, price): \n",
    "            if price + self._balance > self._limit:\n",
    "                return False \n",
    "            else:\n",
    "                self._balance += price \n",
    "                return True\n",
    "        def make_payment(self, amount):\n",
    "            if amount < 0:\n",
    "                raise ValueError('Only Positive Amount shall be entered ')\n",
    "            self._balance -= amount \n",
    "            \n",
    "wallet = [ ]\n",
    "wallet.append(CreditCard( 'John Bowman' , 'California Savings' , '5391 0375 9387 5309' , 2500) )\n",
    "wallet.append(CreditCard( 'John Bowman' , 'California Federal' , '3485 0399 3395 1954' , 3500) )\n",
    "wallet.append(CreditCard( 'John Bowman' , 'California Finance' , '5391 0375 9387 5309' , 5000) ) \n",
    "for val in range(1, 17):\n",
    "    wallet[0].charge(val)\n",
    "    wallet[1].charge(2*val)\n",
    "    wallet[2].charge(3*val)\n",
    "for c in range(3):\n",
    "    print( 'Customer = ', wallet[c].get_customer())\n",
    "    print( 'Bank = ', wallet[c].get_bank())\n",
    "    print( 'Account =' , wallet[c].get_account())\n",
    "    print( 'Limit =' , wallet[c].get_limit())\n",
    "    print( 'Balance =' , wallet[c].get_balance()) \n",
    "    while wallet[c].get_balance( ) > 100:\n",
    "        wallet[c].make_payment(-100) \n",
    "        print( 'New_balance =' , wallet[c].get_balance()) \n",
    "    print()\n"
   ]
  },
  {
   "cell_type": "markdown",
   "metadata": {},
   "source": [
    "#### 2.7"
   ]
  },
  {
   "cell_type": "markdown",
   "metadata": {},
   "source": [
    "The CreditCard class of Section 2.3 initializes the balance of a new account to zero. Modify that class so that a new account can be given a nonzero balance using an optional ﬁfth parameter to the constructor. The four-parameter constructor syntax should continue to produce an account with zero balance. "
   ]
  },
  {
   "cell_type": "code",
   "execution_count": 40,
   "metadata": {},
   "outputs": [
    {
     "name": "stdout",
     "output_type": "stream",
     "text": [
      "Customer =  John Bowman\n",
      "Bank =  California Savings\n",
      "Account = 5391 0375 9387 5309\n",
      "Limit = 2500\n",
      "Balance = 181\n",
      "New_balance = 81\n",
      "\n",
      "Customer =  John Bowman\n",
      "Bank =  California Federal\n",
      "Account = 3485 0399 3395 1954\n",
      "Limit = 2500\n",
      "Balance = 136\n",
      "New_balance = 36\n",
      "\n",
      "Difference is of 45 as it is optional parameter\n",
      "\n",
      "Customer =  John Bowman\n",
      "Bank =  California Finance\n",
      "Account = 5391 0375 9387 5309\n",
      "Limit = 5000\n",
      "Balance = 408\n",
      "New_balance = 308\n",
      "New_balance = 208\n",
      "New_balance = 108\n",
      "New_balance = 8\n",
      "\n"
     ]
    }
   ],
   "source": [
    " class CreditCard:\n",
    "        def __init__(self, customer, bank, acnt, limit, balance = 0): \n",
    "            self._customer = customer \n",
    "            self._bank = bank\n",
    "            self._account = acnt\n",
    "            self._limit = limit \n",
    "            self._balance = balance\n",
    "        def get_customer(self):\n",
    "            return self._customer\n",
    "        def get_bank(self):\n",
    "            return self._bank\n",
    "        def get_account(self):\n",
    "            return self._account\n",
    "        def get_limit(self):\n",
    "            return self._limit\n",
    "        def get_balance(self):\n",
    "            return self._balance\n",
    "        def charge(self, price): \n",
    "            if price + self._balance > self._limit:\n",
    "                return False \n",
    "            else:\n",
    "                self._balance += price \n",
    "                return True\n",
    "        def make_payment(self, amount):\n",
    "            self._balance -= amount \n",
    "            \n",
    "wallet = [ ]\n",
    "wallet.append(CreditCard( 'John Bowman' , 'California Savings' , '5391 0375 9387 5309' , 2500, 45 ) )     #Sent an optional parameter\n",
    "wallet.append(CreditCard( 'John Bowman' , 'California Federal' , '3485 0399 3395 1954' , 2500) )          #Same values without optional parameter   \n",
    "wallet.append(CreditCard( 'John Bowman' , 'California Finance' , '5391 0375 9387 5309' , 5000) ) \n",
    "for val in range(1, 17):\n",
    "    wallet[0].charge(val)\n",
    "    wallet[1].charge(val)\n",
    "    wallet[2].charge(3*val)\n",
    "for c in range(3):\n",
    "    print( 'Customer = ', wallet[c].get_customer())\n",
    "    print( 'Bank = ', wallet[c].get_bank())\n",
    "    print( 'Account =' , wallet[c].get_account())\n",
    "    print( 'Limit =' , wallet[c].get_limit())\n",
    "    print( 'Balance =' , wallet[c].get_balance()) \n",
    "    while wallet[c].get_balance( ) > 100:\n",
    "        wallet[c].make_payment(100) \n",
    "        print( 'New_balance =' , wallet[c].get_balance())\n",
    "    if c == 1:\n",
    "        print(\"\\nDifference is of 45 as it is optional parameter\")\n",
    "    print()\n"
   ]
  },
  {
   "cell_type": "markdown",
   "metadata": {},
   "source": [
    "#### 2.9"
   ]
  },
  {
   "cell_type": "markdown",
   "metadata": {},
   "source": [
    "Implement the sub method for the Vector class of Section 2.3.3, so that the expression u−v returns a new vector instance representing the difference between two vectors. "
   ]
  },
  {
   "cell_type": "code",
   "execution_count": 42,
   "metadata": {},
   "outputs": [],
   "source": [
    "class Vector:\n",
    "    def __init__(self, d):\n",
    "        self._coords = [0] * d\n",
    "    def __len__(self): \n",
    "        return len(self. coords)\n",
    "    def __getitem__ (self, j):\n",
    "        return self._coords[j] \n",
    "    def __setitem__ (self, j, val): \n",
    "        self._coords[j] = val\n",
    "    def __add__ (self, other):\n",
    "        if len(self) != len(other):\n",
    "            raise ValueError( 'dimensions must agree' )\n",
    "        result = Vector(len(self))\n",
    "        for j in range(len(self)): \n",
    "            result[j] = self[j] + other[j] \n",
    "        return result\n",
    "    def __eq__ (self, other):\n",
    "        return self._coords == other._coords\n",
    "    def __ne__ (self, other):\n",
    "        return not self == other\n",
    "    def str (self):\n",
    "        return '<' + str(self._coords)[1:-1] + '>' "
   ]
  },
  {
   "cell_type": "code",
   "execution_count": null,
   "metadata": {},
   "outputs": [],
   "source": []
  }
 ],
 "metadata": {
  "kernelspec": {
   "display_name": "Python 3",
   "language": "python",
   "name": "python3"
  },
  "language_info": {
   "codemirror_mode": {
    "name": "ipython",
    "version": 3
   },
   "file_extension": ".py",
   "mimetype": "text/x-python",
   "name": "python",
   "nbconvert_exporter": "python",
   "pygments_lexer": "ipython3",
   "version": "3.6.5"
  }
 },
 "nbformat": 4,
 "nbformat_minor": 2
}
