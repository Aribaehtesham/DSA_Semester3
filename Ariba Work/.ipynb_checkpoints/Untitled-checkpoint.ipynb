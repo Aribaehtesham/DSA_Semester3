{
 "cells": [
  {
   "cell_type": "code",
   "execution_count": 1,
   "metadata": {},
   "outputs": [
    {
     "name": "stdout",
     "output_type": "stream",
     "text": [
      "enter the name of flowerkjdsa\n",
      "enter the number of petals of flower234\n",
      "enter the price of flower45\n",
      "kjdsa 234 45.0\n"
     ]
    }
   ],
   "source": [
    "class Flower:\n",
    "    def __init__(self,name,petal,price):\n",
    "        self._name=name\n",
    "        self._petal=petal\n",
    "        self._price=price\n",
    "        \n",
    "    def _get_name(self):\n",
    "        self._name=str(input(\"enter the name of flower\"))\n",
    "        return self._name\n",
    "    def get_petal(self):\n",
    "        self._petal=int(input(\"enter the number of petals of flower\"))\n",
    "        return self._petal\n",
    "    def get_price(self):\n",
    "        self._price=float(input(\"enter the price of flower\"))\n",
    "        return (self._price)\n",
    "    def Return_value(self):\n",
    "        print(Flower._get_name(self),Flower.get_petal(self),Flower.get_price(self))\n",
    "\n",
    "a=Flower(\"jasmine\",2,3.5)\n",
    "a.Return_value()"
   ]
  },
  {
   "cell_type": "code",
   "execution_count": 8,
   "metadata": {},
   "outputs": [
    {
     "name": "stdout",
     "output_type": "stream",
     "text": [
      "[0, 15, 0, 33, 0]\n",
      "<0, -8, 0, -34, 0> \n",
      "2462\n"
     ]
    }
   ],
   "source": [
    "# -*- coding: utf-8 -*-\n",
    "\"\"\"\n",
    "Created on Thu Sep 20 17:47:38 2018\n",
    "\n",
    "@author: Dell\n",
    "\"\"\"\n",
    "class Vector:\n",
    "    def __init__ (self,d):\n",
    "        self._coord=[0]*d\n",
    "    def __len__(self):\n",
    "        return(len (self._coord))\n",
    "    def __getitem__(self,j):\n",
    "        return self._coord[j]\n",
    "    def __setitem__(self,j,val):\n",
    "        self._coord[j]=val\n",
    "    def __add__(self,other):\n",
    "        if len(self)!=len(other):\n",
    "            raise ValueError(\"the dimensions must match\")\n",
    "        result=Vector(len(self))\n",
    "        for j in range(len(self)):\n",
    "            result=self[j]+other[j]\n",
    "        return result\n",
    "    def __sub__(self,other):\n",
    "        if len(self)!=len(other):\n",
    "            raise ValueError(\"the dimensions must match\")\n",
    "        result=Vector(len(self))\n",
    "        for j in range(len(self)):\n",
    "            result=self[j]-other[j]\n",
    "        return result\n",
    "    def __eq__(self,other):\n",
    "        return self._coord==other._coord\n",
    "    def __ne__(self,other):\n",
    "        return not self==other\n",
    "    def __str__(self):\n",
    "        return '<' + str(self._coord)[1:-1] + '> '\n",
    "    def __neg__(self):\n",
    "        result=Vector(len(self))\n",
    "        for j in range(len(self)):\n",
    "            result[j]=-self[j]\n",
    "        return result    \n",
    "    def __mul__(self,other):\n",
    "        result=0\n",
    "        for j in range(len(self)):\n",
    "            result+=other[j]*self[j]\n",
    "        return result    \n",
    "    def __rmul__(self,factor):\n",
    "        result=Vector(len(self))\n",
    "        for j in range(len(self)):\n",
    "            result[j]=self[j]*factor\n",
    "        return result   \n",
    "    \n",
    "    \n",
    "if __name__=='__main__':\n",
    "    v=Vector(5)\n",
    "    w=Vector(5)\n",
    "    v[1]=23\n",
    "    v[3]=67\n",
    "    w[1]=8\n",
    "    w[3]=34\n",
    "    u=[]\n",
    "    for i in range(len(v)):\n",
    "        u.append(v[i]-w[i])\n",
    "    print (u)   \n",
    "    print(-w)\n",
    "    print(v*w)\n",
    "    \n",
    "   \n",
    "    \n",
    "\n",
    "       \n",
    "    \n",
    "    "
   ]
  },
  {
   "cell_type": "code",
   "execution_count": 9,
   "metadata": {},
   "outputs": [
    {
     "name": "stdout",
     "output_type": "stream",
     "text": [
      "<0, 23, 0, 67, 0> \n"
     ]
    }
   ],
   "source": [
    "# -*- coding: utf-8 -*-\n",
    "\"\"\"\n",
    "Created on Thu Sep 20 17:47:38 2018\n",
    "\n",
    "@author: Dell\n",
    "\"\"\"\n",
    "class Vector:\n",
    "    def __init__ (self,d):\n",
    "        if isinstance(d,int):\n",
    "          self._coord=[0]*d\n",
    "        else:\n",
    "            self._coord=[i for i in d]\n",
    "                \n",
    "        \n",
    "    def __len__(self):\n",
    "        return(len (self._coord))\n",
    "    def __getitem__(self,j):\n",
    "        return self._coord[j]\n",
    "    def __setitem__(self,j,val):\n",
    "        self._coord[j]=val\n",
    "    def __add__(self,other):\n",
    "        if len(self)!=len(other):\n",
    "            raise ValueError(\"the dimensions must match\")\n",
    "        result=Vector(len(self))\n",
    "        for j in range(len(self)):\n",
    "            result=self[j]+other[j]\n",
    "        return result\n",
    "    def __sub__(self,other):\n",
    "        if len(self)!=len(other):\n",
    "            raise ValueError(\"the dimensions must match\")\n",
    "        result=Vector(len(self))\n",
    "        for j in range(len(self)):\n",
    "            result=self[j]-other[j]\n",
    "        return result\n",
    "    def __eq__(self,other):\n",
    "        return self._coord==other._coord\n",
    "    def __ne__(self,other):\n",
    "        return not self==other\n",
    "    def __str__(self):\n",
    "        return '<' + str(self._coord)[1:-1] + '> '\n",
    "    def __neg__(self):\n",
    "        result=Vector(len(self))\n",
    "        for j in range(len(self)):\n",
    "            result[j]=-self[j]\n",
    "        return result    \n",
    "    def __mul__(self,other):\n",
    "        result=0\n",
    "        for j in range(len(self)):\n",
    "            result+=other[j]*self[j]\n",
    "        return result    \n",
    "    def __rmul__(self,factor):\n",
    "        result=Vector(len(self))\n",
    "        for j in range(len(self)):\n",
    "            result[j]=self[j]*factor\n",
    "        return result   \n",
    "    \n",
    "    \n",
    "if __name__=='__main__':\n",
    "    v=Vector(5)\n",
    "    v[1]=23\n",
    "    v[3]=67\n",
    "    w=Vector(v)\n",
    "    print(w)\n"
   ]
  },
  {
   "cell_type": "code",
   "execution_count": 10,
   "metadata": {},
   "outputs": [
    {
     "name": "stdout",
     "output_type": "stream",
     "text": [
      "2 2 4 6 10 16 26 42\n"
     ]
    }
   ],
   "source": [
    "\n",
    "class Progression:\n",
    "    def __init__(self,start=0):\n",
    "        self._current=start\n",
    "    def advance(self):\n",
    "        self._current+=1\n",
    "    def __next__ (self):\n",
    "        if self._current is None:\n",
    "            raise StopIteration\n",
    "        else:\n",
    "            answer=self._current\n",
    "            self.advance()\n",
    "            return answer\n",
    "    def __iter__(self):\n",
    "        return self\n",
    "    def print_progression(self,n):\n",
    "      print(\" \".join(str(next(self)) for i in range (n)))\n",
    "class Fibonacci(Progression):\n",
    "      def __init__(self,first=0,second=1):\n",
    "          super().__init__(first)\n",
    "          self.prev=second-first\n",
    "      def advance(self):\n",
    "          self._current,self.prev=self.prev,self._current+self.prev\n",
    "if __name__== '__main__':\n",
    "    Fibonacci(2,4).print_progression(8)          \n"
   ]
  },
  {
   "cell_type": "code",
   "execution_count": 12,
   "metadata": {},
   "outputs": [
    {
     "name": "stdout",
     "output_type": "stream",
     "text": [
      "[0, 15, 0, 33, 0]\n",
      "<0, -8, 0, -34, 0> \n",
      "<0, 23, 0, 67, 0> \n",
      "<0, 69, 0, 201, 0> \n",
      "<0, 69, 0, 201, 0> \n"
     ]
    }
   ],
   "source": [
    "class Vector:\n",
    "    def __init__ (self,d):\n",
    "        self._coord=[0]*d\n",
    "    def __len__(self):\n",
    "        return(len (self._coord))\n",
    "    def __getitem__(self,j):\n",
    "        return self._coord[j]\n",
    "    def __setitem__(self,j,val):\n",
    "        self._coord[j]=val\n",
    "    def __add__(self,other):\n",
    "        if len(self)!=len(other):\n",
    "            raise ValueError(\"the dimensions must match\")\n",
    "        result=Vector(len(self))\n",
    "        for j in range(len(self)):\n",
    "            result=self[j]+other[j]\n",
    "        return result\n",
    "    def __sub__(self,other):\n",
    "        if len(self)!=len(other):\n",
    "            raise ValueError(\"the dimensions must match\")\n",
    "        result=Vector(len(self))\n",
    "        for j in range(len(self)):\n",
    "            result=self[j]-other[j]\n",
    "        return result\n",
    "    def __eq__(self,other):\n",
    "        return self._coord==other._coord\n",
    "    def __ne__(self,other):\n",
    "        return not self==other\n",
    "    def __str__(self):\n",
    "        return '<' + str(self._coord)[1:-1] + '> '\n",
    "    def __neg__(self):\n",
    "        result=Vector(len(self))\n",
    "        for j in range(len(self)):\n",
    "            result[j]=-self[j]\n",
    "        return result    \n",
    "    def __mul__(self,factor):\n",
    "        result=Vector(len(self))\n",
    "        for j in range(len(self)):\n",
    "            result[j]=factor*self[j]\n",
    "        return result    \n",
    "    def __rmul__(self,factor):\n",
    "        result=Vector(len(self))\n",
    "        for j in range(len(self)):\n",
    "            result[j]=self[j]*factor\n",
    "        return result   \n",
    "    \n",
    "    \n",
    "if __name__=='__main__':\n",
    "    v=Vector(5)\n",
    "    w=Vector(5)\n",
    "    v[1]=23\n",
    "    v[3]=67\n",
    "    w[1]=8\n",
    "    w[3]=34\n",
    "    u=[]\n",
    "    for i in range(len(v)):\n",
    "        u.append(v[i]-w[i])\n",
    "    print (u)   \n",
    "    print(-w)\n",
    "    print(v)\n",
    "    print(v*3)\n",
    "    print(3*v)"
   ]
  },
  {
   "cell_type": "code",
   "execution_count": 13,
   "metadata": {},
   "outputs": [],
   "source": [
    "class Vector:\n",
    "    def __init__(self,d):\n",
    "        self.coords = [0] * d\n",
    "    def __len__(self):\n",
    "        return len(self.coords)\n",
    "    def __getitem__(self,j):\n",
    "        return self.coords[j]\n",
    "    def __setitem__(self,j,val):\n",
    "        self.coords[j] = val\n",
    "    def __add__(self,other):\n",
    "        if len(self) != len(other):\n",
    "            raise ValueError('Dimensions must agree')\n",
    "        result = Vector(len(self))\n",
    "        for j in range(len(self)):\n",
    "            result[j] = self[j] + other[j]\n",
    "        return result\n",
    "    def __sub__(self,other):\n",
    "        if len(self) != len(other):\n",
    "            raise ValueError('Dimensions must agree')\n",
    "        result = Vector(len(self))\n",
    "        for j in range(len(self)):\n",
    "            result[j] = self[j] - other[j]\n",
    "        return result\n",
    "    def __eq__(self,other):\n",
    "        return self.coords == other.coords\n",
    "    def __ne__(self,other):\n",
    "        return not self == other\n",
    "    def __str__(self):\n",
    "        if self.coords == None:\n",
    "            return '<' + '>'\n",
    "        else:\n",
    "            return '<' + str(self.coords)[1:-1] + '>'"
   ]
  },
  {
   "cell_type": "code",
   "execution_count": 14,
   "metadata": {},
   "outputs": [],
   "source": [
    "a = Vector(3)"
   ]
  },
  {
   "cell_type": "code",
   "execution_count": 16,
   "metadata": {},
   "outputs": [
    {
     "name": "stdout",
     "output_type": "stream",
     "text": [
      "<0, 0, 0>\n"
     ]
    }
   ],
   "source": [
    "print(a)\n",
    "b = Vector(3)\n",
    "a = [1,2,3]\n",
    "b = [4,5,6,7]\n"
   ]
  },
  {
   "cell_type": "code",
   "execution_count": 20,
   "metadata": {},
   "outputs": [
    {
     "name": "stdout",
     "output_type": "stream",
     "text": [
      "<0, 3, -6>\n"
     ]
    }
   ],
   "source": [
    "v1 = Vector(3)\n",
    "v2 = Vector(3)\n",
    "v1[1] = 3\n",
    "v2[2] = 6\n",
    "v1 = v1 - v2\n",
    "print(v1)"
   ]
  },
  {
   "cell_type": "code",
   "execution_count": 23,
   "metadata": {},
   "outputs": [
    {
     "ename": "TypeError",
     "evalue": "unsupported operand type(s) for -: 'tuple' and 'tuple'",
     "output_type": "error",
     "traceback": [
      "\u001b[1;31m---------------------------------------------------------------------------\u001b[0m",
      "\u001b[1;31mTypeError\u001b[0m                                 Traceback (most recent call last)",
      "\u001b[1;32m<ipython-input-23-b73c16ef98fe>\u001b[0m in \u001b[0;36m<module>\u001b[1;34m()\u001b[0m\n\u001b[0;32m      3\u001b[0m \u001b[0mv1\u001b[0m \u001b[1;33m=\u001b[0m \u001b[1;36m1\u001b[0m\u001b[1;33m,\u001b[0m\u001b[1;36m2\u001b[0m\u001b[1;33m,\u001b[0m\u001b[1;36m3\u001b[0m\u001b[1;33m\u001b[0m\u001b[0m\n\u001b[0;32m      4\u001b[0m \u001b[0mv2\u001b[0m \u001b[1;33m=\u001b[0m \u001b[1;36m6\u001b[0m\u001b[1;33m,\u001b[0m\u001b[1;36m5\u001b[0m\u001b[1;33m,\u001b[0m\u001b[1;36m7\u001b[0m\u001b[1;33m\u001b[0m\u001b[0m\n\u001b[1;32m----> 5\u001b[1;33m \u001b[0mv1\u001b[0m \u001b[1;33m=\u001b[0m \u001b[0mv1\u001b[0m \u001b[1;33m-\u001b[0m \u001b[0mv2\u001b[0m\u001b[1;33m\u001b[0m\u001b[0m\n\u001b[0m\u001b[0;32m      6\u001b[0m \u001b[0mprint\u001b[0m\u001b[1;33m(\u001b[0m\u001b[0mv1\u001b[0m\u001b[1;33m)\u001b[0m\u001b[1;33m\u001b[0m\u001b[0m\n",
      "\u001b[1;31mTypeError\u001b[0m: unsupported operand type(s) for -: 'tuple' and 'tuple'"
     ]
    }
   ],
   "source": [
    "v1 = Vector(3)\n",
    "v2 = Vector(3)\n",
    "v1 = 1,2,3\n",
    "v2 = 6,5,7\n",
    "v1 = v1 - v2\n",
    "print(v1)"
   ]
  },
  {
   "cell_type": "code",
   "execution_count": 24,
   "metadata": {},
   "outputs": [
    {
     "ename": "TabError",
     "evalue": "inconsistent use of tabs and spaces in indentation (<ipython-input-24-06b3341bdd13>, line 3)",
     "output_type": "error",
     "traceback": [
      "\u001b[1;36m  File \u001b[1;32m\"<ipython-input-24-06b3341bdd13>\"\u001b[1;36m, line \u001b[1;32m3\u001b[0m\n\u001b[1;33m    raise ValueError('Dimensions must agree')\u001b[0m\n\u001b[1;37m                                             ^\u001b[0m\n\u001b[1;31mTabError\u001b[0m\u001b[1;31m:\u001b[0m inconsistent use of tabs and spaces in indentation\n"
     ]
    }
   ],
   "source": [
    "def __sub__(self,other):\n",
    "        \t\tif len(self) != len(other):\n",
    "            \t\traise ValueError('Dimensions must agree')\n",
    "        \t\tresult = Vector(len(self))\n",
    "        \t\tfor j in range(len(self)):\n",
    "            \t\tresult[j] = self[j] - other[j]\n",
    "        \t\treturn result\n",
    "  \n",
    "def __eq__(self,other):\n",
    "        \t\treturn self.coords == other.coords\n",
    " \tdef __ne__(self,other):\n",
    "        \t\treturn not self == other\n",
    "    \tdef __str__(self):\n",
    "        \t\treturn '<' + str(self.coords)[1:-1] + '>'\n"
   ]
  },
  {
   "cell_type": "code",
   "execution_count": 31,
   "metadata": {},
   "outputs": [
    {
     "name": "stdout",
     "output_type": "stream",
     "text": [
      "<-6, 3, -5> \n"
     ]
    }
   ],
   "source": [
    "class Vector:\n",
    "    def __init__ (self,d):\n",
    "        self._coord=[0]*d\n",
    "    def __len__(self):\n",
    "        return(len (self._coord))\n",
    "    def __getitem__(self,j):\n",
    "        return self._coord[j]\n",
    "    def __setitem__(self,j,val):\n",
    "        self._coord[j]=val\n",
    "    def __add__(self,other):\n",
    "        if len(self)!=len(other):\n",
    "            raise ValueError(\"the dimensions must match\")\n",
    "        result=Vector(len(self))\n",
    "        for j in range(len(self)):\n",
    "            result=self[j]+other[j]\n",
    "        return result\n",
    "    def __sub__(self,other):\n",
    "        if len(self)!=len(other):\n",
    "            raise ValueError(\"the dimensions must match\")\n",
    "        result=Vector(len(self))\n",
    "        for j in range(len(self)):\n",
    "            result=self[j]-other[j]\n",
    "        return result\n",
    "    def __eq__(self,other):\n",
    "        return self._coord==other._coord\n",
    "    def __ne__(self,other):\n",
    "        return not self==other\n",
    "    def __str__(self):\n",
    "        return '<' + str(self._coord)[1:-1] + '> '\n",
    "    \n",
    "if __name__=='__main__':\n",
    "    v=Vector(3)\n",
    "    w=Vector(3)\n",
    "    v[0] = 2\n",
    "    v[1] = 3\n",
    "    v[-1]= 4\n",
    "    w[0] = 8\n",
    "    w[2] = 9\n",
    "    result = Vector(3)\n",
    "    \n",
    "    for j in range(3):\n",
    "        result[j] = v[j] - w[j]\n",
    "    print(result) "
   ]
  },
  {
   "cell_type": "code",
   "execution_count": 51,
   "metadata": {},
   "outputs": [
    {
     "name": "stdout",
     "output_type": "stream",
     "text": [
      "<-1, -2, -3> \n",
      "<-10, 20, -30> \n",
      "<2, 4, 6> \n",
      "<2, 4, 6> \n"
     ]
    }
   ],
   "source": [
    "class Vector:\n",
    "    def __init__ (self,d):\n",
    "        self._coord=[0]*d\n",
    "    def __len__(self):\n",
    "        return(len (self._coord))\n",
    "    def __getitem__(self,j):\n",
    "        return self._coord[j]\n",
    "    def __setitem__(self,j,val):\n",
    "        self._coord[j]=val\n",
    "    def __add__(self,other):\n",
    "        if len(self)!=len(other):\n",
    "            raise ValueError(\"the dimensions must match\")\n",
    "        result=Vector(len(self))\n",
    "        for j in range(len(self)):\n",
    "            result[j]=self[j]+other[j]\n",
    "        return result\n",
    "    def __radd__(self,other):\n",
    "        if len(self)!=len(other):\n",
    "            raise ValueError(\"the dimensions must match\")\n",
    "        result=Vector(len(self))\n",
    "        for j in range(len(self)):\n",
    "            result[j]=self[j]+other[j]\n",
    "        return result\n",
    "    def __sub__(self,other):\n",
    "        if len(self)!=len(other):\n",
    "            raise ValueError(\"the dimensions must match\")\n",
    "        result=Vector(len(self))\n",
    "        for j in range(len(self)):\n",
    "            result=self[j]-other[j]\n",
    "        return result\n",
    "    def __eq__(self,other):\n",
    "        return self._coord==other._coord\n",
    "    def __ne__(self,other):\n",
    "        return not self==other\n",
    "    def __str__(self):\n",
    "        return '<' + str(self._coord)[1:-1] + '> '\n",
    "    def __neg__(self):\n",
    "        result=Vector(len(self))\n",
    "        for j in range(len(self)):\n",
    "            result[j]=-self[j]\n",
    "        return result    \n",
    "    \n",
    "if __name__=='__main__':\n",
    "    v=Vector(3)\n",
    "    w=Vector(3)\n",
    "    v[0] = 1\n",
    "    v[1] = 2\n",
    "    v[2] = 3\n",
    "    w[0] = 10\n",
    "    w[1] = -20\n",
    "    w[2] = 30\n",
    "    result = Vector(3)\n",
    "    \n",
    "    print(-v)    \n",
    "    print(-w)\n",
    "    z = v + [1,2,3]\n",
    "    x = [1,2,3] + v\n",
    "    print(z)\n",
    "    print(x)"
   ]
  },
  {
   "cell_type": "code",
   "execution_count": 56,
   "metadata": {},
   "outputs": [
    {
     "name": "stdout",
     "output_type": "stream",
     "text": [
      "<1, 2, 3> \n",
      "<4, 8, 12> \n"
     ]
    }
   ],
   "source": [
    "class Vector:\n",
    "    def __init__ (self,d):\n",
    "        self._coord=[0]*d\n",
    "    def __len__(self):\n",
    "        return(len (self._coord))\n",
    "    def __getitem__(self,j):\n",
    "        return self._coord[j]\n",
    "    def __setitem__(self,j,val):\n",
    "        self._coord[j]=val\n",
    "    def __add__(self,other):\n",
    "        if len(self)!=len(other):\n",
    "            raise ValueError(\"the dimensions must match\")\n",
    "        result=Vector(len(self))\n",
    "        for j in range(len(self)):\n",
    "            result[j]=self[j]+other[j]\n",
    "        return result\n",
    "    def __radd__(self,other):\n",
    "        if len(self)!=len(other):\n",
    "            raise ValueError(\"the dimensions must match\")\n",
    "        result=Vector(len(self))\n",
    "        for j in range(len(self)):\n",
    "            result[j]=self[j]+other[j]\n",
    "        return result\n",
    "    def __sub__(self,other):\n",
    "        if len(self)!=len(other):\n",
    "            raise ValueError(\"the dimensions must match\")\n",
    "        result=Vector(len(self))\n",
    "        for j in range(len(self)):\n",
    "            result=self[j]-other[j]\n",
    "        return result\n",
    "    def __mul__(self,constant):\n",
    "        for j in range(len(self)):\n",
    "            result[j]=self[j] * constant\n",
    "        return result\n",
    "    def __eq__(self,other):\n",
    "        return self._coord==other._coord\n",
    "    def __ne__(self,other):\n",
    "        return not self==other\n",
    "    def __str__(self):\n",
    "        return '<' + str(self._coord)[1:-1] + '> '\n",
    "    def __neg__(self):\n",
    "        result=Vector(len(self))\n",
    "        for j in range(len(self)):\n",
    "            result[j]=-self[j]\n",
    "        return result    \n",
    "    \n",
    "if __name__=='__main__':\n",
    "    v=Vector(3)\n",
    "    w=Vector(3)\n",
    "    v[0] = 1\n",
    "    v[1] = 2\n",
    "    v[2] = 3\n",
    "    print(v)\n",
    "    print(v * 4)"
   ]
  },
  {
   "cell_type": "code",
   "execution_count": 57,
   "metadata": {},
   "outputs": [
    {
     "name": "stdout",
     "output_type": "stream",
     "text": [
      "<1, 2, 3> \n",
      "<4, 8, 12> \n",
      "<6, 12, 18> \n"
     ]
    }
   ],
   "source": [
    "class Vector:\n",
    "    def __init__ (self,d):\n",
    "        self._coord=[0]*d\n",
    "    def __len__(self):\n",
    "        return(len (self._coord))\n",
    "    def __getitem__(self,j):\n",
    "        return self._coord[j]\n",
    "    def __setitem__(self,j,val):\n",
    "        self._coord[j]=val\n",
    "    def __add__(self,other):\n",
    "        if len(self)!=len(other):\n",
    "            raise ValueError(\"the dimensions must match\")\n",
    "        result=Vector(len(self))\n",
    "        for j in range(len(self)):\n",
    "            result[j]=self[j]+other[j]\n",
    "        return result\n",
    "    def __radd__(self,other):\n",
    "        if len(self)!=len(other):\n",
    "            raise ValueError(\"the dimensions must match\")\n",
    "        result=Vector(len(self))\n",
    "        for j in range(len(self)):\n",
    "            result[j]=self[j]+other[j]\n",
    "        return result\n",
    "    def __sub__(self,other):\n",
    "        if len(self)!=len(other):\n",
    "            raise ValueError(\"the dimensions must match\")\n",
    "        result=Vector(len(self))\n",
    "        for j in range(len(self)):\n",
    "            result=self[j]-other[j]\n",
    "        return result\n",
    "    def __mul__(self,constant):\n",
    "        for j in range(len(self)):\n",
    "            result[j]=self[j] * constant\n",
    "        return result\n",
    "    def __rmul__(self,constant):\n",
    "        for j in range(len(self)):\n",
    "            result[j]=self[j] * constant\n",
    "        return result\n",
    "    def __eq__(self,other):\n",
    "        return self._coord==other._coord\n",
    "    def __ne__(self,other):\n",
    "        return not self==other\n",
    "    def __str__(self):\n",
    "        return '<' + str(self._coord)[1:-1] + '> '\n",
    "    def __neg__(self):\n",
    "        result=Vector(len(self))\n",
    "        for j in range(len(self)):\n",
    "            result[j]=-self[j]\n",
    "        return result    \n",
    "    \n",
    "if __name__=='__main__':\n",
    "    v=Vector(3)\n",
    "    w=Vector(3)\n",
    "    v[0] = 1\n",
    "    v[1] = 2\n",
    "    v[2] = 3\n",
    "    print(v)\n",
    "    print(v * 4)\n",
    "    print(6 * v)"
   ]
  },
  {
   "cell_type": "code",
   "execution_count": 60,
   "metadata": {},
   "outputs": [
    {
     "name": "stdout",
     "output_type": "stream",
     "text": [
      "32\n"
     ]
    }
   ],
   "source": [
    "class Vector:\n",
    "    def __init__ (self,d):\n",
    "        self._coord=[0]*d\n",
    "    def __len__(self):\n",
    "        return(len (self._coord))\n",
    "    def __getitem__(self,j):\n",
    "        return self._coord[j]\n",
    "    def __setitem__(self,j,val):\n",
    "        self._coord[j]=val\n",
    "    def __add__(self,other):\n",
    "        if len(self)!=len(other):\n",
    "            raise ValueError(\"the dimensions must match\")\n",
    "        result=Vector(len(self))\n",
    "        for j in range(len(self)):\n",
    "            result=self[j]+other[j]\n",
    "        return result\n",
    "    def __sub__(self,other):\n",
    "        if len(self)!=len(other):\n",
    "            raise ValueError(\"the dimensions must match\")\n",
    "        result=Vector(len(self))\n",
    "        for j in range(len(self)):\n",
    "            result=self[j]-other[j]\n",
    "        return result\n",
    "    def __eq__(self,other):\n",
    "        return self._coord==other._coord\n",
    "    def __ne__(self,other):\n",
    "        return not self==other\n",
    "    def __str__(self):\n",
    "        return '<' + str(self._coord)[1:-1] + '> '\n",
    "    def __neg__(self):\n",
    "        result=Vector(len(self))\n",
    "        for j in range(len(self)):\n",
    "            result[j]=-self[j]\n",
    "        return result    \n",
    "    def __mul__(self,other):\n",
    "        result=0\n",
    "        for j in range(len(self)):\n",
    "            result+=other[j]*self[j]\n",
    "        return result    \n",
    "    def __rmul__(self,factor):\n",
    "        result=Vector(len(self))\n",
    "        for j in range(len(self)):\n",
    "            result[j]=self[j]*factor\n",
    "        return result   \n",
    "    \n",
    "    \n",
    "if __name__=='__main__':\n",
    "    v=Vector(5)\n",
    "    w=Vector(5)\n",
    "    v[0] = 1\n",
    "    v[1] = 2\n",
    "    v[2] = 3\n",
    "    w[0] = 4\n",
    "    w[1] = 5\n",
    "    w[2] = 6\n",
    "    \n",
    "    print(v*w)"
   ]
  },
  {
   "cell_type": "code",
   "execution_count": 64,
   "metadata": {},
   "outputs": [
    {
     "name": "stdout",
     "output_type": "stream",
     "text": [
      "<4, 7, 5> \n"
     ]
    }
   ],
   "source": [
    "class Vector:\n",
    "    def __init__ (self,d):\n",
    "        if isinstance(d,int):\n",
    "            self._coord=[0]*d\n",
    "        else:\n",
    "            self._coord=[i for i in d]\n",
    "                \n",
    "        \n",
    "    def __len__(self):\n",
    "        return(len (self._coord))\n",
    "    def __getitem__(self,j):\n",
    "        return self._coord[j]\n",
    "    def __setitem__(self,j,val):\n",
    "        self._coord[j]=val\n",
    "    def __add__(self,other):\n",
    "        if len(self)!=len(other):\n",
    "            raise ValueError(\"the dimensions must match\")\n",
    "        result=Vector(len(self))\n",
    "        for j in range(len(self)):\n",
    "            result=self[j]+other[j]\n",
    "        return result\n",
    "    def __sub__(self,other):\n",
    "        if len(self)!=len(other):\n",
    "            raise ValueError(\"the dimensions must match\")\n",
    "        result=Vector(len(self))\n",
    "        for j in range(len(self)):\n",
    "            result=self[j]-other[j]\n",
    "        return result\n",
    "    def __eq__(self,other):\n",
    "        return self._coord==other._coord\n",
    "    def __ne__(self,other):\n",
    "        return not self==other\n",
    "    def __str__(self):\n",
    "        return '<' + str(self._coord)[1:-1] + '> '\n",
    "    def __neg__(self):\n",
    "        result=Vector(len(self))\n",
    "        for j in range(len(self)):\n",
    "            result[j]=-self[j]\n",
    "        return result    \n",
    "    def __mul__(self,other):\n",
    "        result=0\n",
    "        for j in range(len(self)):\n",
    "            result+=other[j]*self[j]\n",
    "        return result    \n",
    "    def __rmul__(self,factor):\n",
    "        result=Vector(len(self))\n",
    "        for j in range(len(self)):\n",
    "            result[j]=self[j]*factor\n",
    "        return result   \n",
    "    \n",
    "    \n",
    "if __name__=='__main__':\n",
    "    v=Vector([4,7,5])\n",
    "    print(v)"
   ]
  },
  {
   "cell_type": "code",
   "execution_count": 65,
   "metadata": {},
   "outputs": [
    {
     "data": {
      "text/plain": [
       "-12"
      ]
     },
     "execution_count": 65,
     "metadata": {},
     "output_type": "execute_result"
    }
   ],
   "source": [
    "12//-1"
   ]
  },
  {
   "cell_type": "code",
   "execution_count": 66,
   "metadata": {},
   "outputs": [
    {
     "data": {
      "text/plain": [
       "12"
      ]
     },
     "execution_count": 66,
     "metadata": {},
     "output_type": "execute_result"
    }
   ],
   "source": [
    "-12//-1"
   ]
  },
  {
   "cell_type": "code",
   "execution_count": 68,
   "metadata": {},
   "outputs": [
    {
     "data": {
      "text/plain": [
       "12"
      ]
     },
     "execution_count": 68,
     "metadata": {},
     "output_type": "execute_result"
    }
   ],
   "source": [
    "max(0 , ( 0 - 10 - 1 - 1 ) //-1 )"
   ]
  },
  {
   "cell_type": "code",
   "execution_count": 79,
   "metadata": {},
   "outputs": [
    {
     "name": "stdout",
     "output_type": "stream",
     "text": [
      "[10, 14, 18, 22, 26, 30, 34, 38, 42, 46, 50, 54]\n"
     ]
    }
   ],
   "source": [
    "print([i for i in range(10,55,4)])"
   ]
  },
  {
   "cell_type": "code",
   "execution_count": 72,
   "metadata": {},
   "outputs": [
    {
     "data": {
      "text/plain": [
       "0"
      ]
     },
     "execution_count": 72,
     "metadata": {},
     "output_type": "execute_result"
    }
   ],
   "source": [
    "max(0 , ( 0 - ( -10) + (-1) - 1 ) //-1 )"
   ]
  },
  {
   "cell_type": "code",
   "execution_count": 74,
   "metadata": {},
   "outputs": [
    {
     "data": {
      "text/plain": [
       "-8"
      ]
     },
     "execution_count": 74,
     "metadata": {},
     "output_type": "execute_result"
    }
   ],
   "source": [
    "(0 - ( -10) + (-1) - 1 ) //-1"
   ]
  },
  {
   "cell_type": "code",
   "execution_count": 75,
   "metadata": {},
   "outputs": [
    {
     "data": {
      "text/plain": [
       "5"
      ]
     },
     "execution_count": 75,
     "metadata": {},
     "output_type": "execute_result"
    }
   ],
   "source": [
    "max(0 , ( 10 - 0 + 2 - 1 ) //2 )"
   ]
  },
  {
   "cell_type": "code",
   "execution_count": 77,
   "metadata": {},
   "outputs": [
    {
     "data": {
      "text/plain": [
       "5.5"
      ]
     },
     "execution_count": 77,
     "metadata": {},
     "output_type": "execute_result"
    }
   ],
   "source": [
    "11/2"
   ]
  },
  {
   "cell_type": "code",
   "execution_count": 78,
   "metadata": {},
   "outputs": [
    {
     "data": {
      "text/plain": [
       "5"
      ]
     },
     "execution_count": 78,
     "metadata": {},
     "output_type": "execute_result"
    }
   ],
   "source": [
    "11//2"
   ]
  },
  {
   "cell_type": "code",
   "execution_count": 85,
   "metadata": {},
   "outputs": [
    {
     "name": "stdout",
     "output_type": "stream",
     "text": [
      "2 3 4 5 6 7 8 9\n"
     ]
    }
   ],
   "source": [
    "class Progression:\n",
    "    def __init__(self,start=0):\n",
    "        self._current=start\n",
    "    def advance(self):\n",
    "        self._current+=1\n",
    "    def __next__ (self):\n",
    "        if self._current is None:\n",
    "            raise StopIteration\n",
    "        else:\n",
    "            answer=self._current\n",
    "            self.advance()\n",
    "            return answer\n",
    "    def __iter__(self):\n",
    "        return self\n",
    "    def print_progression(self,n):\n",
    "        print(\" \".join(str(next(self)) for i in range (n)))\n",
    "        \n",
    "class Fibonacci(Progression):\n",
    "    def __init__(self,first=0,second=1):\n",
    "        super().__init__(first)\n",
    "        self.prev=second-first\n",
    "    def _advance(self):\n",
    "          self._current,self.prev=self.prev,self._current+self.prev\n",
    "if __name__== '__main__':\n",
    "    Fibonacci(2,4).print_progression(8)"
   ]
  },
  {
   "cell_type": "code",
   "execution_count": 96,
   "metadata": {},
   "outputs": [],
   "source": [
    "class ArithmeticProgression(Progression): \n",
    "    def __init__ (self, increment=1, start=0):\n",
    "        super().__init__ (start)\n",
    "        self.count = 0\n",
    "        self._increment = increment\n",
    "    def _advance(self): \n",
    "        count += 1\n",
    "        self._current += self._increment + increment\n",
    "        print(count)\n",
    "    "
   ]
  },
  {
   "cell_type": "code",
   "execution_count": 97,
   "metadata": {},
   "outputs": [
    {
     "name": "stdout",
     "output_type": "stream",
     "text": [
      "0 1 2 3 4 5 6 7 8 9 10 11\n"
     ]
    }
   ],
   "source": [
    "z = ArithmeticProgression(128,0)\n",
    "z.print_progression(12)"
   ]
  },
  {
   "cell_type": "code",
   "execution_count": null,
   "metadata": {},
   "outputs": [],
   "source": [
    "count = 0\n",
    "step = 128\n",
    "start = 0\n",
    "z = pow(2,63)\n",
    "x = 0\n",
    "while x <= z:\n",
    "    x += start + step\n",
    "    count += 1\n",
    "print(count)\n",
    "    "
   ]
  },
  {
   "cell_type": "code",
   "execution_count": 101,
   "metadata": {},
   "outputs": [
    {
     "data": {
      "text/plain": [
       "9223372036854775808"
      ]
     },
     "execution_count": 101,
     "metadata": {},
     "output_type": "execute_result"
    }
   ],
   "source": [
    "pow(2,63)"
   ]
  },
  {
   "cell_type": "code",
   "execution_count": null,
   "metadata": {},
   "outputs": [],
   "source": []
  }
 ],
 "metadata": {
  "kernelspec": {
   "display_name": "Python 3",
   "language": "python",
   "name": "python3"
  },
  "language_info": {
   "codemirror_mode": {
    "name": "ipython",
    "version": 3
   },
   "file_extension": ".py",
   "mimetype": "text/x-python",
   "name": "python",
   "nbconvert_exporter": "python",
   "pygments_lexer": "ipython3",
   "version": "3.6.5"
  }
 },
 "nbformat": 4,
 "nbformat_minor": 2
}
