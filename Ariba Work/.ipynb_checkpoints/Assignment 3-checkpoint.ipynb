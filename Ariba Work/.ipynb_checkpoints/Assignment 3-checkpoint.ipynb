{
 "cells": [
  {
   "cell_type": "markdown",
   "metadata": {},
   "source": [
    "## 2.4"
   ]
  },
  {
   "cell_type": "code",
   "execution_count": 1,
   "metadata": {},
   "outputs": [
    {
     "name": "stdout",
     "output_type": "stream",
     "text": [
      "enter the name of flowerJasmine\n",
      "enter the number of petals of flower30\n",
      "enter the price of flower3.5\n",
      "Jasmine 30 3.5\n"
     ]
    }
   ],
   "source": [
    "class Flower:\n",
    "    def __init__(self,name,petal,price):\n",
    "        self._name=name\n",
    "        self._petal=petal\n",
    "        self._price=price\n",
    "        \n",
    "    def _get_name(self):\n",
    "        self._name=str(input(\"enter the name of flower\"))\n",
    "        return self._name\n",
    "    def get_petal(self):\n",
    "        self._petal=int(input(\"enter the number of petals of flower\"))\n",
    "        return self._petal\n",
    "    def get_price(self):\n",
    "        self._price=float(input(\"enter the price of flower\"))\n",
    "        return (self._price)\n",
    "    def Return_value(self):\n",
    "        print(Flower._get_name(self),Flower.get_petal(self),Flower.get_price(self))\n",
    "\n",
    "a=Flower(\"jasmine\",2,3.5)\n",
    "a.Return_value()"
   ]
  },
  {
   "cell_type": "markdown",
   "metadata": {},
   "source": [
    "## 2.5"
   ]
  },
  {
   "cell_type": "code",
   "execution_count": 4,
   "metadata": {},
   "outputs": [
    {
     "name": "stdout",
     "output_type": "stream",
     "text": [
      "now your balance is=  -100\n",
      "now your balance is : -100\n",
      "now your balance is : 0\n",
      "now your balance is : -99\n",
      "now your balance is : 2\n",
      "customer name  Walee Aijaz  bank  BAHL  accountnumber:  9871628  limit is  4000\n",
      "customer name  Shaikh  bank  ABL  accountnumber:  8854234  limit is  2000\n"
     ]
    }
   ],
   "source": [
    "class Credit_card:\n",
    "    def __init__(self,customer,bank,acc,lmt):\n",
    "        self._customer=customer\n",
    "        self._bank=bank\n",
    "        self._acc=acc\n",
    "        self._lmt=lmt\n",
    "        self._balance=0\n",
    "    def get_customer(self):\n",
    "        return self._customer\n",
    "    def get_bank(self):\n",
    "        return self._bank\n",
    "    def get_acc(self):\n",
    "        return self._acc\n",
    "    def get_limit(self):\n",
    "        return self._lmt\n",
    "    def get_bal(self):\n",
    "        return self._balance\n",
    "    def charge(self,price):\n",
    "        if not isinstance(price,(int,float)):\n",
    "            raise TypeError(\"the value must be numeric\")\n",
    "        if price+self._balance>self._lmt:\n",
    "            return False\n",
    "        else:\n",
    "            self._balance+=price\n",
    "            print(\"now your balance is :\",self._balance )\n",
    "            return True\n",
    "    def make_payment(self,amount):\n",
    "        if not isinstance(amount,(int,float)):\n",
    "            raise TypeError(\"the value must be numeric\")\n",
    "        else:    \n",
    "            self._balance-=amount\n",
    "            print(\"now your balance is= \",self._balance)\n",
    "        \n",
    "if __name__=='__main__':\n",
    "    wallet=[]\n",
    "    wallet.append(Credit_card(\"Walee Aijaz\",\"BAHL\",9871628,4000))\n",
    "    wallet.append(Credit_card(\"Shaikh\",\"ABL\",8854234,2000))\n",
    "    wallet[0].make_payment(100)\n",
    "    for val in range(0,2):\n",
    "        wallet[0].charge(val)\n",
    "        wallet[1].charge(2*val)\n",
    "    for c in range (2):\n",
    "        print(\"customer name \",wallet[c].get_customer(),\" bank \",wallet[c].get_bank(),\" accountnumber: \",wallet[c].get_acc(),\" limit is \",wallet[c].get_limit())"
   ]
  },
  {
   "cell_type": "markdown",
   "metadata": {},
   "source": [
    "## 2.6"
   ]
  },
  {
   "cell_type": "code",
   "execution_count": 6,
   "metadata": {},
   "outputs": [
    {
     "ename": "ValueError",
     "evalue": "Negative number is not excepted",
     "output_type": "error",
     "traceback": [
      "\u001b[1;31m---------------------------------------------------------------------------\u001b[0m",
      "\u001b[1;31mValueError\u001b[0m                                Traceback (most recent call last)",
      "\u001b[1;32m<ipython-input-6-98facee41dbb>\u001b[0m in \u001b[0;36m<module>\u001b[1;34m()\u001b[0m\n\u001b[0;32m     38\u001b[0m     \u001b[0mwallet\u001b[0m\u001b[1;33m.\u001b[0m\u001b[0mappend\u001b[0m\u001b[1;33m(\u001b[0m\u001b[0mCredit_card\u001b[0m\u001b[1;33m(\u001b[0m\u001b[1;34m\"Walee Aijaz\"\u001b[0m\u001b[1;33m,\u001b[0m\u001b[1;34m\"BAHL\"\u001b[0m\u001b[1;33m,\u001b[0m\u001b[1;36m9871628\u001b[0m\u001b[1;33m,\u001b[0m\u001b[1;36m4000\u001b[0m\u001b[1;33m)\u001b[0m\u001b[1;33m)\u001b[0m\u001b[1;33m\u001b[0m\u001b[0m\n\u001b[0;32m     39\u001b[0m     \u001b[0mwallet\u001b[0m\u001b[1;33m.\u001b[0m\u001b[0mappend\u001b[0m\u001b[1;33m(\u001b[0m\u001b[0mCredit_card\u001b[0m\u001b[1;33m(\u001b[0m\u001b[1;34m\"Shaikh\"\u001b[0m\u001b[1;33m,\u001b[0m\u001b[1;34m\"ABL\"\u001b[0m\u001b[1;33m,\u001b[0m\u001b[1;36m8854234\u001b[0m\u001b[1;33m,\u001b[0m\u001b[1;36m2000\u001b[0m\u001b[1;33m)\u001b[0m\u001b[1;33m)\u001b[0m\u001b[1;33m\u001b[0m\u001b[0m\n\u001b[1;32m---> 40\u001b[1;33m     \u001b[0mwallet\u001b[0m\u001b[1;33m[\u001b[0m\u001b[1;36m0\u001b[0m\u001b[1;33m]\u001b[0m\u001b[1;33m.\u001b[0m\u001b[0mmake_payment\u001b[0m\u001b[1;33m(\u001b[0m\u001b[1;33m-\u001b[0m\u001b[1;36m100\u001b[0m\u001b[1;33m)\u001b[0m\u001b[1;33m\u001b[0m\u001b[0m\n\u001b[0m\u001b[0;32m     41\u001b[0m     \u001b[1;32mfor\u001b[0m \u001b[0mval\u001b[0m \u001b[1;32min\u001b[0m \u001b[0mrange\u001b[0m\u001b[1;33m(\u001b[0m\u001b[1;36m0\u001b[0m\u001b[1;33m,\u001b[0m\u001b[1;36m2\u001b[0m\u001b[1;33m)\u001b[0m\u001b[1;33m:\u001b[0m\u001b[1;33m\u001b[0m\u001b[0m\n\u001b[0;32m     42\u001b[0m         \u001b[0mwallet\u001b[0m\u001b[1;33m[\u001b[0m\u001b[1;36m0\u001b[0m\u001b[1;33m]\u001b[0m\u001b[1;33m.\u001b[0m\u001b[0mcharge\u001b[0m\u001b[1;33m(\u001b[0m\u001b[0mval\u001b[0m\u001b[1;33m)\u001b[0m\u001b[1;33m\u001b[0m\u001b[0m\n",
      "\u001b[1;32m<ipython-input-6-98facee41dbb>\u001b[0m in \u001b[0;36mmake_payment\u001b[1;34m(self, amount)\u001b[0m\n\u001b[0;32m     29\u001b[0m             \u001b[1;32mraise\u001b[0m \u001b[0mTypeError\u001b[0m\u001b[1;33m(\u001b[0m\u001b[1;34m\"The value must be numeric\"\u001b[0m\u001b[1;33m)\u001b[0m\u001b[1;33m\u001b[0m\u001b[0m\n\u001b[0;32m     30\u001b[0m         \u001b[1;32mif\u001b[0m \u001b[0mamount\u001b[0m\u001b[1;33m<\u001b[0m\u001b[1;36m0\u001b[0m\u001b[1;33m:\u001b[0m\u001b[1;33m\u001b[0m\u001b[0m\n\u001b[1;32m---> 31\u001b[1;33m             \u001b[1;32mraise\u001b[0m \u001b[0mValueError\u001b[0m\u001b[1;33m(\u001b[0m\u001b[1;34m\"Negative number is not excepted\"\u001b[0m\u001b[1;33m)\u001b[0m\u001b[1;33m\u001b[0m\u001b[0m\n\u001b[0m\u001b[0;32m     32\u001b[0m         \u001b[1;32melse\u001b[0m\u001b[1;33m:\u001b[0m\u001b[1;33m\u001b[0m\u001b[0m\n\u001b[0;32m     33\u001b[0m             \u001b[0mself\u001b[0m\u001b[1;33m.\u001b[0m\u001b[0m_balance\u001b[0m\u001b[1;33m-=\u001b[0m\u001b[0mamount\u001b[0m\u001b[1;33m\u001b[0m\u001b[0m\n",
      "\u001b[1;31mValueError\u001b[0m: Negative number is not excepted"
     ]
    }
   ],
   "source": [
    "class Credit_card:\n",
    "    def __init__(self,customer,bank,acc,lmt):\n",
    "        self._customer=customer\n",
    "        self._bank=bank\n",
    "        self._acc=acc\n",
    "        self._lmt=lmt\n",
    "        self._balance=0\n",
    "    def get_customer(self):\n",
    "        return self._customer\n",
    "    def get_bank(self):\n",
    "        return self._bank\n",
    "    def get_acc(self):\n",
    "        return self._acc\n",
    "    def get_limit(self):\n",
    "        return self._lmt\n",
    "    def get_bal(self):\n",
    "        return self._balance\n",
    "    def charge(self,price):\n",
    "        if not isinstance(price,(int,float)):\n",
    "            raise TypeError(\"The value must be numeric\")\n",
    "        if price+self._balance>self._lmt:\n",
    "            return False\n",
    "        else:\n",
    "            self._balance+=price\n",
    "            print(\"Now your balance is :\",self._balance )\n",
    "            return True\n",
    "    def make_payment(self,amount):\n",
    "        if not isinstance(amount,(int,float)):\n",
    "            raise TypeError(\"The value must be numeric\")\n",
    "        if amount<0:\n",
    "            raise ValueError(\"Negative number is not excepted\")    \n",
    "        else:    \n",
    "            self._balance-=amount\n",
    "            print(\"Now your balance is= \",self._balance)\n",
    "        \n",
    "if __name__=='__main__':\n",
    "    wallet=[]\n",
    "    wallet.append(Credit_card(\"Walee Aijaz\",\"BAHL\",9871628,4000))\n",
    "    wallet.append(Credit_card(\"Shaikh\",\"ABL\",8854234,2000))\n",
    "    wallet[0].make_payment(-100)\n",
    "    for val in range(0,2):\n",
    "        wallet[0].charge(val)\n",
    "        wallet[1].charge(2*val)\n",
    "    for c in range (2):\n",
    "        print (\"customer name \",wallet[c].get_customer(),\" bank \",wallet[c].get_bank(),\" accountnumber: \",wallet[c].get_acc(),\" limit is \",wallet[c].get_limit())\n",
    "      "
   ]
  },
  {
   "cell_type": "markdown",
   "metadata": {},
   "source": [
    "## 2.7"
   ]
  },
  {
   "cell_type": "code",
   "execution_count": 19,
   "metadata": {},
   "outputs": [
    {
     "name": "stdout",
     "output_type": "stream",
     "text": [
      "customer name  Walee Aijaz  bank  BAHL  accountnumber:  9871628  limit is  4000 balance is : 9900\n",
      "customer name  Shaikh  bank  ABL  accountnumber:  8854234  limit is  2000 balance is : 87400\n"
     ]
    }
   ],
   "source": [
    "class Credit_card:\n",
    "    def __init__(self,customer,bank,acc,lmt,bal):\n",
    "        self._customer=customer\n",
    "        self._bank=bank\n",
    "        self._acc=acc\n",
    "        self._lmt=lmt\n",
    "        self._balance=bal\n",
    "    def get_customer(self):\n",
    "        return self._customer\n",
    "    def get_bank(self):\n",
    "        return self._bank\n",
    "    def get_acc(self):\n",
    "        return self._acc\n",
    "    def get_limit(self):\n",
    "        return self._lmt\n",
    "    def get_bal(self):\n",
    "        return self._balance\n",
    "    def charge(self,price):\n",
    "        if not isinstance(price,(int,float)):\n",
    "            raise TypeError(\"the value must be numeric\")\n",
    "        if price+self._balance>self._lmt:\n",
    "            return False\n",
    "        else:\n",
    "            self._balance+=price\n",
    "            return True\n",
    "    def make_payment(self,amount):\n",
    "        if not isinstance(amount,(int,float)):\n",
    "            raise TypeError(\"the value must be numeric\")\n",
    "        if amount<0:\n",
    "            raise ValueError(\"negative number is not excepted\")    \n",
    "        else:    \n",
    "            self._balance-=amount\n",
    "        \n",
    "if __name__=='__main__':\n",
    "    wallet=[]\n",
    "    wallet.append(Credit_card(\"Walee Aijaz\",\"BAHL\",9871628,4000,10000))\n",
    "    wallet.append(Credit_card(\"Shaikh\",\"ABL\",8854234,2000,90000))\n",
    "\n",
    "\n",
    "    wallet[0].make_payment(100)\n",
    "    wallet[1].make_payment(2600)\n",
    "    for val in range(0,2):\n",
    "        wallet[0].charge(val)\n",
    "        wallet[1].charge(2*val)\n",
    "    for c in range (2):\n",
    "        print (\"customer name \",wallet[c].get_customer(),\" bank \",wallet[c].get_bank(),\" accountnumber: \",wallet[c].get_acc(),\" limit is \",wallet[c].get_limit(),\"balance is :\",wallet[c].get_bal())"
   ]
  },
  {
   "cell_type": "markdown",
   "metadata": {},
   "source": [
    "## 2.9"
   ]
  },
  {
   "cell_type": "code",
   "execution_count": 16,
   "metadata": {},
   "outputs": [
    {
     "name": "stdout",
     "output_type": "stream",
     "text": [
      "[-66, -15, 50, -90, 43]\n"
     ]
    }
   ],
   "source": [
    "class Vector:\n",
    "    def __init__ (self,d):\n",
    "        self._coord=[0]*d\n",
    "    def __len__(self):\n",
    "        return(len (self._coord))\n",
    "    def __getitem__(self,j):\n",
    "        return self._coord[j]\n",
    "    def __setitem__(self,j,val):\n",
    "        self._coord[j]=val\n",
    "    def __add__(self,other):\n",
    "        if len(self)!=len(other):\n",
    "            raise ValueError(\"the dimensions must match\")\n",
    "        result=Vector(len(self))\n",
    "        for j in range(len(self)):\n",
    "            result=self[j]+other[j]\n",
    "        return result\n",
    "    def __sub__(self,other):\n",
    "        if len(self)!=len(other):\n",
    "            raise ValueError(\"the dimensions must match\")\n",
    "        result=Vector(len(self))\n",
    "        for j in range(len(self)):\n",
    "            result=self[j]-other[j]\n",
    "        return result\n",
    "    def __eq__(self,other):\n",
    "        return self._coord==other._coord\n",
    "    def __ne__(self,other):\n",
    "        return not self==other\n",
    "    def __str__(self):\n",
    "        return '<' + str(self._coord)[1:-1] + '> '\n",
    "    \n",
    "if __name__=='__main__':\n",
    "    v=Vector(5)\n",
    "    w=Vector(5)\n",
    "    v[1]=36\n",
    "    v[2]=50\n",
    "    v[-1]=43\n",
    "    w[1]=51\n",
    "    w[0]=66\n",
    "    w[3]=90\n",
    "    \n",
    "    listForVector=[]\n",
    "    for i in range(5):\n",
    "        listForVector.append(v[i]-w[i])\n",
    "    print (listForVector)    \n",
    "       "
   ]
  },
  {
   "cell_type": "markdown",
   "metadata": {},
   "source": [
    "## 2.10"
   ]
  },
  {
   "cell_type": "code",
   "execution_count": 31,
   "metadata": {},
   "outputs": [
    {
     "name": "stdout",
     "output_type": "stream",
     "text": [
      "<39, 52, 47, 6, 0> \n",
      "<39, 52, 47, 6, 0> \n"
     ]
    }
   ],
   "source": [
    "class Vector:\n",
    "    def __init__ (self,d):\n",
    "        self._coord=[0]*d\n",
    "    def __len__(self):\n",
    "        return(len (self._coord))\n",
    "    def __getitem__(self,j):\n",
    "        return self._coord[j]\n",
    "    def __setitem__(self,j,val):\n",
    "        self._coord[j]=val\n",
    "    def __add__(self,other):\n",
    "        if len(self)!=len(other):\n",
    "            raise ValueError(\"the dimensions must match\")\n",
    "        result=Vector(len(self))\n",
    "        for j in range(len(self)):\n",
    "            result=self[j]+other[j]\n",
    "        return result\n",
    "    def __sub__(self,other):\n",
    "        if len(self)!=len(other):\n",
    "            raise ValueError(\"the dimensions must match\")\n",
    "        result=Vector(len(self))\n",
    "        for j in range(len(self)):\n",
    "            result=self[j]-other[j]\n",
    "        return result\n",
    "    def __eq__(self,other):\n",
    "        return self._coord==other._coord\n",
    "    def __ne__(self,other):\n",
    "        return not self==other\n",
    "    def __str__(self):\n",
    "        return '<' + str(self._coord)[1:-1] + '> '\n",
    "    def __neg__(self):\n",
    "        result=Vector(len(self))\n",
    "        for j in range(len(self)):\n",
    "            result[j]=-self[j]\n",
    "        return result    \n",
    "    \n",
    "if __name__=='__main__':\n",
    "    v=Vector(5)\n",
    "    w=Vector(5)\n",
    "    v[1]=36\n",
    "    v[2]=50\n",
    "    v[-1]=43\n",
    "    w[1]=51\n",
    "    w[0]=66\n",
    "    w[3]=90\n",
    "    listForVector=[]\n",
    "    for i in range(5):\n",
    "        listForVector.append(v[i]-w[i])\n",
    "    print (listForVector)    \n",
    "    print(-w)\n",
    "       "
   ]
  },
  {
   "cell_type": "markdown",
   "metadata": {},
   "source": [
    "## 2.11"
   ]
  },
  {
   "cell_type": "code",
   "execution_count": 33,
   "metadata": {},
   "outputs": [
    {
     "name": "stdout",
     "output_type": "stream",
     "text": [
      "<48, 57, 65, -1, -2> \n",
      "<48, 57, 65, -1, -2> \n"
     ]
    }
   ],
   "source": [
    "class Vector:\n",
    "    def __init__ (self,d):\n",
    "        self._coord=[0]*d\n",
    "    def __len__(self):\n",
    "        return(len (self._coord))\n",
    "    def __getitem__(self,j):\n",
    "        return self._coord[j]\n",
    "    def __setitem__(self,j,val):\n",
    "        self._coord[j]=val\n",
    "    def __add__(self,other):\n",
    "        if len(self)!=len(other):\n",
    "            raise ValueError(\"the dimensions must match\")\n",
    "        result=Vector(len(self))\n",
    "        for j in range(len(self)):\n",
    "            result[j]=self[j]+other[j]\n",
    "        return result\n",
    "    def __radd__(self,other):\n",
    "        if len(self)!=len(other):\n",
    "            raise ValueError(\"the dimensions must match\")\n",
    "        result=Vector(len(self))\n",
    "        for j in range(len(self)):\n",
    "            result[j]=self[j]+other[j]\n",
    "        return result\n",
    "    def __sub__(self,other):\n",
    "        if len(self)!=len(other):\n",
    "            raise ValueError(\"the dimensions must match\")\n",
    "        result=Vector(len(self))\n",
    "        for j in range(len(self)):\n",
    "            result=self[j]-other[j]\n",
    "        return result\n",
    "    def __eq__(self,other):\n",
    "        return self._coord==other._coord\n",
    "    def __ne__(self,other):\n",
    "        return not self==other\n",
    "    def __str__(self):\n",
    "        return '<' + str(self._coord)[1:-1] + '> '\n",
    "    def __neg__(self):\n",
    "        result=Vector(len(self))\n",
    "        for j in range(len(self)):\n",
    "            result[j]=-self[j]\n",
    "        return result    \n",
    "    \n",
    "if __name__=='__main__':\n",
    "    v=Vector(5)\n",
    "    w=Vector(5)\n",
    "    v[0]=45\n",
    "    v[1]=55\n",
    "    v[2]=65\n",
    "      \n",
    "    print(v + [3,2,0,-1,-2])\n",
    "    print([3,2,0,-1,-2] + v)\n",
    "       "
   ]
  },
  {
   "cell_type": "markdown",
   "metadata": {},
   "source": [
    "## 2.12"
   ]
  },
  {
   "cell_type": "code",
   "execution_count": 38,
   "metadata": {},
   "outputs": [
    {
     "name": "stdout",
     "output_type": "stream",
     "text": [
      "<50, 100, 150, 200, 250> \n"
     ]
    }
   ],
   "source": [
    "class Vector:\n",
    "    def __init__ (self,d):\n",
    "        self._coord=[0]*d\n",
    "    def __len__(self):\n",
    "        return(len (self._coord))\n",
    "    def __getitem__(self,j):\n",
    "        return self._coord[j]\n",
    "    def __setitem__(self,j,val):\n",
    "        self._coord[j]=val\n",
    "    def __add__(self,other):\n",
    "        if len(self)!=len(other):\n",
    "            raise ValueError(\"the dimensions must match\")\n",
    "        result=Vector(len(self))\n",
    "        for j in range(len(self)):\n",
    "            result=self[j]+other[j]\n",
    "        return result\n",
    "    def __sub__(self,other):\n",
    "        if len(self)!=len(other):\n",
    "            raise ValueError(\"the dimensions must match\")\n",
    "        result=Vector(len(self))\n",
    "        for j in range(len(self)):\n",
    "            result=self[j]-other[j]\n",
    "        return result\n",
    "    def __eq__(self,other):\n",
    "        return self._coord==other._coord\n",
    "    def __ne__(self,other):\n",
    "        return not self==other\n",
    "    def __str__(self):\n",
    "        return '<' + str(self._coord)[1:-1] + '> '\n",
    "    def __neg__(self):\n",
    "        result=Vector(len(self))\n",
    "        for j in range(len(self)):\n",
    "            result[j]=-self[j]\n",
    "        return result    \n",
    "    def __mul__(self,factor):\n",
    "        result=Vector(len(self))\n",
    "        for j in range(len(self)):\n",
    "            result[j]=factor*self[j]\n",
    "        return result    \n",
    "      \n",
    "    \n",
    "    \n",
    "if __name__=='__main__':\n",
    "    v=Vector(5)\n",
    "    w=Vector(5)\n",
    "    v[0]=10\n",
    "    v[1]=20\n",
    "    v[2]=30\n",
    "    v[3]=40\n",
    "    v[4]= 50\n",
    "\n",
    "    print(v*5)"
   ]
  },
  {
   "cell_type": "markdown",
   "metadata": {},
   "source": [
    "## 2.13"
   ]
  },
  {
   "cell_type": "code",
   "execution_count": 41,
   "metadata": {},
   "outputs": [
    {
     "name": "stdout",
     "output_type": "stream",
     "text": [
      "v times 5: <50, 100, 150, 200, 250> \n",
      "5 times v: <50, 100, 150, 200, 250> \n"
     ]
    }
   ],
   "source": [
    "class Vector:\n",
    "    def __init__ (self,d):\n",
    "        self._coord=[0]*d\n",
    "    def __len__(self):\n",
    "        return(len (self._coord))\n",
    "    def __getitem__(self,j):\n",
    "        return self._coord[j]\n",
    "    def __setitem__(self,j,val):\n",
    "        self._coord[j]=val\n",
    "    def __add__(self,other):\n",
    "        if len(self)!=len(other):\n",
    "            raise ValueError(\"the dimensions must match\")\n",
    "        result=Vector(len(self))\n",
    "        for j in range(len(self)):\n",
    "            result=self[j]+other[j]\n",
    "        return result\n",
    "    def __sub__(self,other):\n",
    "        if len(self)!=len(other):\n",
    "            raise ValueError(\"the dimensions must match\")\n",
    "        result=Vector(len(self))\n",
    "        for j in range(len(self)):\n",
    "            result=self[j]-other[j]\n",
    "        return result\n",
    "    def __eq__(self,other):\n",
    "        return self._coord==other._coord\n",
    "    def __ne__(self,other):\n",
    "        return not self==other\n",
    "    def __str__(self):\n",
    "        return '<' + str(self._coord)[1:-1] + '> '\n",
    "    def __neg__(self):\n",
    "        result=Vector(len(self))\n",
    "        for j in range(len(self)):\n",
    "            result[j]=-self[j]\n",
    "        return result    \n",
    "    def __mul__(self,factor):\n",
    "        result=Vector(len(self))\n",
    "        for j in range(len(self)):\n",
    "            result[j]=factor*self[j]\n",
    "        return result    \n",
    "    def __rmul__(self,factor):\n",
    "        result=Vector(len(self))\n",
    "        for j in range(len(self)):\n",
    "            result[j]=self[j]*factor\n",
    "        return result   \n",
    "    \n",
    "    \n",
    "if __name__=='__main__':\n",
    "    v=Vector(5)\n",
    "    w=Vector(5)\n",
    "    v[0]=10\n",
    "    v[1]=20\n",
    "    v[2]=30\n",
    "    v[3]=40\n",
    "    v[4]= 50\n",
    "\n",
    "    print(\"v times 5:\",v*5)\n",
    "    print(\"5 times v:\",5*v)"
   ]
  },
  {
   "cell_type": "markdown",
   "metadata": {},
   "source": [
    "## 2.14"
   ]
  },
  {
   "cell_type": "code",
   "execution_count": 44,
   "metadata": {},
   "outputs": [
    {
     "name": "stdout",
     "output_type": "stream",
     "text": [
      "Scalar Product is:  100\n"
     ]
    }
   ],
   "source": [
    "class Vector:\n",
    "    def __init__ (self,d):\n",
    "        self._coord=[0]*d\n",
    "    def __len__(self):\n",
    "        return(len (self._coord))\n",
    "    def __getitem__(self,j):\n",
    "        return self._coord[j]\n",
    "    def __setitem__(self,j,val):\n",
    "        self._coord[j]=val\n",
    "    def __add__(self,other):\n",
    "        if len(self)!=len(other):\n",
    "            raise ValueError(\"the dimensions must match\")\n",
    "        result=Vector(len(self))\n",
    "        for j in range(len(self)):\n",
    "            result=self[j]+other[j]\n",
    "        return result\n",
    "    def __sub__(self,other):\n",
    "        if len(self)!=len(other):\n",
    "            raise ValueError(\"the dimensions must match\")\n",
    "        result=Vector(len(self))\n",
    "        for j in range(len(self)):\n",
    "            result=self[j]-other[j]\n",
    "        return result\n",
    "    def __eq__(self,other):\n",
    "        return self._coord==other._coord\n",
    "    def __ne__(self,other):\n",
    "        return not self==other\n",
    "    def __str__(self):\n",
    "        return '<' + str(self._coord)[1:-1] + '> '\n",
    "    def __neg__(self):\n",
    "        result=Vector(len(self))\n",
    "        for j in range(len(self)):\n",
    "            result[j]=-self[j]\n",
    "        return result    \n",
    "    def __mul__(self,other):\n",
    "        result=0\n",
    "        for j in range(len(self)):\n",
    "            result+=other[j]*self[j]\n",
    "        return result    \n",
    "    def __rmul__(self,factor):\n",
    "        result=Vector(len(self))\n",
    "        for j in range(len(self)):\n",
    "            result[j]=self[j]*factor\n",
    "        return result   \n",
    "    \n",
    "    \n",
    "if __name__=='__main__':\n",
    "    v=Vector(5)\n",
    "    w=Vector(5)\n",
    "    v[1]=1\n",
    "    v[2]=3\n",
    "    v[3]=5\n",
    "    v[4]=7\n",
    "    \n",
    "    w[1]=2\n",
    "    w[2]=4\n",
    "    w[3]=6\n",
    "    w[4]=8\n",
    "\n",
    "    print(\"Scalar Product is: \",v*w)"
   ]
  },
  {
   "cell_type": "markdown",
   "metadata": {},
   "source": [
    "## 2.15"
   ]
  },
  {
   "cell_type": "code",
   "execution_count": 51,
   "metadata": {},
   "outputs": [
    {
     "name": "stdout",
     "output_type": "stream",
     "text": [
      "<11, 33, 55, 77, 99, 44> \n",
      "<0, 0, 0> \n"
     ]
    }
   ],
   "source": [
    "class Vector:\n",
    "    def __init__ (self,d):\n",
    "        if isinstance(d,int):\n",
    "            self._coord=[0]*d\n",
    "        else:\n",
    "            self._coord=[i for i in d]\n",
    "                \n",
    "        \n",
    "    def __len__(self):\n",
    "        return(len (self._coord))\n",
    "    def __getitem__(self,j):\n",
    "        return self._coord[j]\n",
    "    def __setitem__(self,j,val):\n",
    "        self._coord[j]=val\n",
    "    def __add__(self,other):\n",
    "        if len(self)!=len(other):\n",
    "            raise ValueError(\"The dimensions must match\")\n",
    "        result=Vector(len(self))\n",
    "        for j in range(len(self)):\n",
    "            result=self[j]+other[j]\n",
    "        return result\n",
    "    def __sub__(self,other):\n",
    "        if len(self)!=len(other):\n",
    "            raise ValueError(\"The dimensions must match\")\n",
    "        result=Vector(len(self))\n",
    "        for j in range(len(self)):\n",
    "            result=self[j]-other[j]\n",
    "        return result\n",
    "    def __eq__(self,other):\n",
    "        return self._coord==other._coord\n",
    "    def __ne__(self,other):\n",
    "        return not self==other\n",
    "    def __str__(self):\n",
    "        return '<' + str(self._coord)[1:-1] + '> '\n",
    "    def __neg__(self):\n",
    "        result=Vector(len(self))\n",
    "        for j in range(len(self)):\n",
    "            result[j]=-self[j]\n",
    "        return result    \n",
    "    def __mul__(self,other):\n",
    "        result=0\n",
    "        for j in range(len(self)):\n",
    "            result+=other[j]*self[j]\n",
    "        return result    \n",
    "    def __rmul__(self,factor):\n",
    "        result=Vector(len(self))\n",
    "        for j in range(len(self)):\n",
    "            result[j]=self[j]*factor\n",
    "        return result   \n",
    "    \n",
    "    \n",
    "if __name__=='__main__':\n",
    "    \n",
    "    z = Vector([11,33,55,77,99,44])\n",
    "    print(z)\n",
    "    y = Vector(3)    \n",
    "    print(y)"
   ]
  },
  {
   "cell_type": "markdown",
   "metadata": {},
   "source": [
    "## 2.16"
   ]
  },
  {
   "cell_type": "raw",
   "metadata": {},
   "source": [
    "To get the right answer for this, we need to consider some possible values for variables such as stop, start, step.\n",
    "At Start = 0, Stop = 10, Step = 1\n",
    "\tmax(0 , ( 10 – 0 + 1 – 1 ) //1 )\n",
    "\tmax(0 , (10) // 1)\n",
    "\tmax(0 , 10)  10\n",
    "At Start = 0, Stop = 10, Step = 2\n",
    "\tmax(0 , ( 10 – 0 + 2 – 1 ) //2 )\n",
    "\tmax(0 , (11) // 2)\n",
    "\tmax(0 , 5)  5\n",
    "At Start = 10, Stop = 55, Step = 4\n",
    "\tmax(0 , ( 55 – 10 + 4 – 1 ) //4 )\n",
    "\tmax(0 , (48) // 4)\n",
    "\tmax(0 , 12)  12\n",
    "      For Negative Step:\n",
    "At Start = 10, Stop = 0, Step = -1\n",
    "\tmax(0 , ( 0 – ( –10) + (–1) – 1 ) //–1 )\n",
    "\tmax(0 , (10 - 2) // –1)\n",
    "\tmax(0 , -8)  0 (Error Condition) \n"
   ]
  },
  {
   "cell_type": "markdown",
   "metadata": {},
   "source": [
    "## 2.18"
   ]
  },
  {
   "cell_type": "code",
   "execution_count": 70,
   "metadata": {},
   "outputs": [
    {
     "name": "stdout",
     "output_type": "stream",
     "text": [
      "2 2 4 6 10 16 26 42\n"
     ]
    }
   ],
   "source": [
    "class Progression:\n",
    "    def __init__(self,start=0):\n",
    "        self._current=start\n",
    "    def advance(self):\n",
    "        self._current+=1\n",
    "    def __next__ (self):\n",
    "        if self._current is None:\n",
    "            raise StopIteration\n",
    "        else:\n",
    "            answer=self._current\n",
    "            self.advance()\n",
    "            return answer\n",
    "    def __iter__(self):\n",
    "        return self\n",
    "    def print_progression(self,n):\n",
    "        print(\" \".join(str(next(self)) for i in range (n)))\n",
    "class Fibonacci(Progression):\n",
    "    def __init__(self,first=0,second=1):\n",
    "        super().__init__(first)\n",
    "        self.prev=second-first\n",
    "    def advance(self):\n",
    "        self._current,self.prev=self.prev,self._current+self.prev\n",
    "if __name__== '__main__':\n",
    "    Fibonacci(2,4).print_progression(8) "
   ]
  },
  {
   "cell_type": "markdown",
   "metadata": {},
   "source": [
    "## 2.19"
   ]
  },
  {
   "cell_type": "raw",
   "metadata": {},
   "source": [
    "R-2.19:\n",
    "\n",
    "Theoretical Details:\n",
    "As  263  is quite large number, so this is a better way to find the number of iterations to reach that specific point. By simple mathematics, we get,\n",
    "\n",
    "pow(2,63)//128 --> 72057594037927936\n",
    "\t \n",
    "\tSo, we need 72057594037927936 + 1 calls to reach the specified limit.\n"
   ]
  },
  {
   "cell_type": "markdown",
   "metadata": {},
   "source": [
    "## 2.20"
   ]
  },
  {
   "cell_type": "raw",
   "metadata": {},
   "source": [
    "\tWhen inheritance is used, it increases reusability of certain functions from parent class but it also make the inherited functions work slower than normal functions due to indirect path.\n",
    "\tSecondly, making a few changes in parent class can affect child classes.\n",
    "\tAlso, it becomes more difficult for programmers to keep in mind about all the diagram of inheritances.\n"
   ]
  },
  {
   "cell_type": "markdown",
   "metadata": {},
   "source": [
    "## 2.21"
   ]
  },
  {
   "cell_type": "raw",
   "metadata": {},
   "source": [
    "As many classes are extending from a single Super/Parent class, this will lead to multiple times calling of Super Class’s constructor. \n",
    "\n",
    "Also, if Parent or Sub-Parent classes’ methods are overridden, this will make memory wastage and can make interpreter or compiler take more time to compute either which specific child class’s method is overridden.\n"
   ]
  },
  {
   "cell_type": "markdown",
   "metadata": {},
   "source": [
    "## 2.22"
   ]
  },
  {
   "cell_type": "code",
   "execution_count": 76,
   "metadata": {},
   "outputs": [],
   "source": [
    "from collections import *\n",
    "class S(object):\n",
    "    def __getitem__(self, item):\n",
    "        raise IndexError\n",
    "    def __len__(self):\n",
    "        return 0\n",
    "    def __contains__(self, item):\n",
    "        return False\n",
    "    def __iter__(self):\n",
    "        return iter(())\n",
    "    def __reversed__(self):\n",
    "        return self\n",
    "    def index(self, item):\n",
    "        raise IndexError \n",
    "    def count(self, item):\n",
    "        return 0\n",
    "    def __eq__(self,other):\n",
    "        if len(self)!=len(other):\n",
    "            return False\n",
    "        for j in range(len(self)):\n",
    "            if self[j]!=other[j]:\n",
    "                return False\n",
    "        return True\n"
   ]
  },
  {
   "cell_type": "markdown",
   "metadata": {},
   "source": [
    "## 2.23"
   ]
  },
  {
   "cell_type": "code",
   "execution_count": 77,
   "metadata": {},
   "outputs": [],
   "source": [
    "from collections import *\n",
    "class S(object):\n",
    "    def __getitem__(self, item):\n",
    "        raise IndexError\n",
    "    def __len__(self):\n",
    "        return 0\n",
    "    def __contains__(self, item):\n",
    "        return False\n",
    "    def __iter__(self):\n",
    "        return iter(())\n",
    "    def __reversed__(self):\n",
    "        return self\n",
    "    def index(self, item):\n",
    "        raise IndexError \n",
    "    def count(self, item):\n",
    "        return 0\n",
    "    def __eq__(self,other):\n",
    "        if len(self)!=len(other):\n",
    "            return False\n",
    "        for j in range(len(self)):\n",
    "            if self[j]!=other[j]:\n",
    "                return False\n",
    "        return True\n",
    "    def __lt__(self,other):\n",
    "        if len(self)!=len(other):\n",
    "            return False\n",
    "        for j in range(len(self)):\n",
    "            if self[j]>=other[j]:\n",
    "                return False\n",
    "        return True\n",
    "\n"
   ]
  },
  {
   "cell_type": "markdown",
   "metadata": {},
   "source": [
    "<h1> <h1> The End"
   ]
  }
 ],
 "metadata": {
  "kernelspec": {
   "display_name": "Python 3",
   "language": "python",
   "name": "python3"
  },
  "language_info": {
   "codemirror_mode": {
    "name": "ipython",
    "version": 3
   },
   "file_extension": ".py",
   "mimetype": "text/x-python",
   "name": "python",
   "nbconvert_exporter": "python",
   "pygments_lexer": "ipython3",
   "version": "3.6.5"
  }
 },
 "nbformat": 4,
 "nbformat_minor": 2
}
