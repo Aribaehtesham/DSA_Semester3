{
 "cells": [
  {
   "cell_type": "markdown",
   "metadata": {},
   "source": [
    "# q5"
   ]
  },
  {
   "cell_type": "markdown",
   "metadata": {},
   "source": [
    "Implement the sub method for the Vector class of Section 2.3.3, so that the expression u−v returns a new vector instance representing the difference between two vectors. "
   ]
  },
  {
   "cell_type": "code",
   "execution_count": null,
   "metadata": {},
   "outputs": [],
   "source": [
    "class Vector:\n",
    "    def __init__(self,d):\n",
    "        self.coords = [0] * d\n",
    "    def __len__(self):\n",
    "        return len(self.coords)\n",
    "    def __getitem__(self,j):\n",
    "        return self.coords[j]\n",
    "    def __setitem__(self,j,val):\n",
    "        self.coords[j] = val\n",
    "    def __add__(self,other):\n",
    "        if len(self) != len(other):\n",
    "            raise ValueError('Dimensions must agree')\n",
    "        result = Vector(len(self))\n",
    "        for j in range(len(self)):\n",
    "            result[j] = self[j] + other[j]\n",
    "        return result\n",
    "    def __sub__(self,other):\n",
    "        if len(self) != len(other):\n",
    "            raise ValueError('Dimensions must agree')\n",
    "        result = Vector(len(self))\n",
    "        for j in range(len(self)):\n",
    "            result[j] = self[j] - other[j]\n",
    "        return result\n",
    "    def __eq__(self,other):\n",
    "        return self.coords == other.coords\n",
    "    def __ne__(self,other):\n",
    "        return not self == other\n",
    "    def __str__(self):\n",
    "        if self.coords == None:\n",
    "            return '<' + '>'\n",
    "        else:\n",
    "            return '<' + str(self.coords)[1:-1] + '>'"
   ]
  },
  {
   "cell_type": "code",
   "execution_count": null,
   "metadata": {},
   "outputs": [],
   "source": [
    "a = Vector(3)"
   ]
  },
  {
   "cell_type": "code",
   "execution_count": null,
   "metadata": {},
   "outputs": [],
   "source": [
    "print(a)"
   ]
  },
  {
   "cell_type": "code",
   "execution_count": null,
   "metadata": {},
   "outputs": [],
   "source": [
    "b = Vector(3)\n",
    "a = [1,2,3]\n",
    "b = [4,5,6,7]\n"
   ]
  },
  {
   "cell_type": "code",
   "execution_count": null,
   "metadata": {},
   "outputs": [],
   "source": [
    "\n",
    "a = a + b"
   ]
  },
  {
   "cell_type": "code",
   "execution_count": null,
   "metadata": {},
   "outputs": [],
   "source": [
    "print(a)"
   ]
  },
  {
   "cell_type": "code",
   "execution_count": null,
   "metadata": {},
   "outputs": [],
   "source": [
    "v1 = Vector(3)\n",
    "v2 = Vector(3)\n",
    "v1 = [1,2,3]\n",
    "v2 = [6,5,4,7]\n",
    "v1 = v1 - [0,0,0]\n",
    "print(v1)"
   ]
  },
  {
   "cell_type": "code",
   "execution_count": null,
   "metadata": {},
   "outputs": [],
   "source": [
    "print(str if str == 'Hello World!')"
   ]
  },
  {
   "cell_type": "code",
   "execution_count": null,
   "metadata": {},
   "outputs": [],
   "source": [
    "print(str[2:] if str == 'Hello World!')"
   ]
  },
  {
   "cell_type": "code",
   "execution_count": null,
   "metadata": {},
   "outputs": [],
   "source": [
    "d = {1:2}\n",
    "d.values()"
   ]
  },
  {
   "cell_type": "code",
   "execution_count": null,
   "metadata": {},
   "outputs": [],
   "source": [
    "x = [1,2,3,4]\n",
    "x.insert(0,'100')\n",
    "x"
   ]
  },
  {
   "cell_type": "code",
   "execution_count": null,
   "metadata": {},
   "outputs": [],
   "source": [
    "def foo(x = []):\n",
    "    x.append(1)\n",
    "    return x\n",
    "print(foo())\n",
    "foo()"
   ]
  },
  {
   "cell_type": "code",
   "execution_count": null,
   "metadata": {},
   "outputs": [],
   "source": [
    "my_string = 'The brown fox'\n",
    "k = [print(i) for i in my_string if i not in 'aeiou']\n",
    "k"
   ]
  },
  {
   "cell_type": "code",
   "execution_count": null,
   "metadata": {},
   "outputs": [],
   "source": [
    "x = [i**1 for i in range(6)]\n",
    "print(x)"
   ]
  },
  {
   "cell_type": "code",
   "execution_count": null,
   "metadata": {},
   "outputs": [],
   "source": [
    "print ([i.lower() for i in 'HELLO'])"
   ]
  },
  {
   "cell_type": "code",
   "execution_count": null,
   "metadata": {},
   "outputs": [],
   "source": [
    "print([if i%2 == 0: i; else: i+1;for i in range(4)])"
   ]
  },
  {
   "cell_type": "code",
   "execution_count": null,
   "metadata": {},
   "outputs": [],
   "source": [
    "def foo():\n",
    "    try:\n",
    "        return 1\n",
    "    finally:\n",
    "        return 2\n",
    "foo()\n"
   ]
  },
  {
   "cell_type": "code",
   "execution_count": null,
   "metadata": {},
   "outputs": [],
   "source": [
    "def foo(fname,val):\n",
    "    print(fname(val))\n",
    "foo(max,[1,2,3])\n",
    "foo(min,[1,2,3])"
   ]
  },
  {
   "cell_type": "code",
   "execution_count": null,
   "metadata": {},
   "outputs": [],
   "source": [
    "def foo():\n",
    "    return total + 1\n",
    "total = 0\n",
    "foo()"
   ]
  },
  {
   "cell_type": "code",
   "execution_count": null,
   "metadata": {},
   "outputs": [],
   "source": [
    "def foo(i,x=[]):\n",
    "    x.append(x.append(i))\n",
    "    return x\n",
    "for i in range(3):\n",
    "    y = foo(i)\n",
    "print(foo(i))"
   ]
  },
  {
   "cell_type": "code",
   "execution_count": null,
   "metadata": {},
   "outputs": [],
   "source": [
    "l = lambda x:x**3\n",
    "print(l(5))"
   ]
  },
  {
   "cell_type": "code",
   "execution_count": null,
   "metadata": {},
   "outputs": [],
   "source": [
    "def writer():\n",
    "    title = 'Sir'\n",
    "    name = (lambda x:title + ' ' + x)\n",
    "    return name\n",
    "w = writer()\n",
    "w(\"Arther\")"
   ]
  },
  {
   "cell_type": "code",
   "execution_count": null,
   "metadata": {},
   "outputs": [],
   "source": [
    "class CreditCard:\n",
    "    def __init__ (self, customer, bank, acnt, limit):\n",
    "        self.customer = customer\n",
    "        self.bank = bank\n",
    "        self.account = acnt\n",
    "        self.limit = limit\n",
    "        self.balance = 0\n",
    "\n",
    "    def get_customer(self):\n",
    "        return self.customer\n",
    "\n",
    "    def get_bank(self):\n",
    " \n",
    "        return self.bank\n",
    "\n",
    "    def get_account(self):\n",
    " \n",
    "        return self.account\n",
    "\n",
    "    def get_limit(self):\n",
    " \n",
    "        return self.limit\n",
    "\n",
    "    def get_balance(self):\n",
    " \n",
    "        return self.balance\n",
    "    \n",
    "    def charge(self,price):\n",
    "        if price + self.balance > self.limit:\n",
    "            return False \n",
    "        else:\n",
    "            self.balance += price\n",
    "            return True\n",
    "\n",
    "    def make_payment(self,amount):\n",
    "        self.balance -=  amount\n",
    "        \n",
    "        \n",
    "a=CreditCard('Tariq','TBL','3432572435437',200)\n",
    "print(a.charge(8))\n",
    "print(a.make_payment(10))"
   ]
  },
  {
   "cell_type": "code",
   "execution_count": null,
   "metadata": {},
   "outputs": [],
   "source": [
    "class Flower:\n",
    "    def __init__(self,name,petal,price):\n",
    "        self._name=name\n",
    "        self._petal=petal\n",
    "        self._price=price\n",
    "        \n",
    "    def _get_name(self):\n",
    "        self._name=str(input(\"enter the name of flower\"))\n",
    "        return self._name\n",
    "    def get_petal(self):\n",
    "        self._petal=int(input(\"enter the number of petals of flower\"))\n",
    "        return self._petal\n",
    "    def get_price(self):\n",
    "        self._price=float(input(\"enter the price of flower\"))\n",
    "        return (self._price)\n",
    "    def Return_value(self):\n",
    "        print(Flower._get_name(self),Flower.get_petal(self),Flower.get_price(self))\n",
    "\n",
    "a=Flower(\"jasmine\",2,3.5)\n",
    "a.Return_value()"
   ]
  },
  {
   "cell_type": "code",
   "execution_count": 1,
   "metadata": {},
   "outputs": [
    {
     "data": {
      "text/plain": [
       "0"
      ]
     },
     "execution_count": 1,
     "metadata": {},
     "output_type": "execute_result"
    }
   ],
   "source": [
    "a = 0\n",
    "a"
   ]
  },
  {
   "cell_type": "code",
   "execution_count": 3,
   "metadata": {},
   "outputs": [
    {
     "data": {
      "text/plain": [
       "72057594037927936"
      ]
     },
     "execution_count": 3,
     "metadata": {},
     "output_type": "execute_result"
    }
   ],
   "source": [
    "pow(2,63)//128"
   ]
  },
  {
   "cell_type": "code",
   "execution_count": null,
   "metadata": {},
   "outputs": [],
   "source": []
  }
 ],
 "metadata": {
  "kernelspec": {
   "display_name": "Python 3",
   "language": "python",
   "name": "python3"
  },
  "language_info": {
   "codemirror_mode": {
    "name": "ipython",
    "version": 3
   },
   "file_extension": ".py",
   "mimetype": "text/x-python",
   "name": "python",
   "nbconvert_exporter": "python",
   "pygments_lexer": "ipython3",
   "version": "3.6.5"
  }
 },
 "nbformat": 4,
 "nbformat_minor": 2
}
