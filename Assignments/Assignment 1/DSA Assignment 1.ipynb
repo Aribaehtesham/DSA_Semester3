{
 "cells": [
  {
   "cell_type": "markdown",
   "metadata": {},
   "source": [
    "<h2>Q1 1.1"
   ]
  },
  {
   "cell_type": "code",
   "execution_count": 1,
   "metadata": {},
   "outputs": [
    {
     "name": "stdout",
     "output_type": "stream",
     "text": [
      "False\n",
      "True\n",
      "True\n"
     ]
    }
   ],
   "source": [
    "def is_multiple(n,m):\n",
    "    if m//n == m/n or n//m == n/m:\n",
    "        return True\n",
    "    else:\n",
    "        return False\n",
    "\n",
    "print(is_multiple(3,5))\n",
    "print(is_multiple(3,6))\n",
    "print(is_multiple(6,18))"
   ]
  },
  {
   "cell_type": "markdown",
   "metadata": {},
   "source": [
    "<h2> Q2 1.2"
   ]
  },
  {
   "cell_type": "code",
   "execution_count": 30,
   "metadata": {},
   "outputs": [
    {
     "name": "stdout",
     "output_type": "stream",
     "text": [
      "True\n",
      "False\n",
      "True\n",
      "False\n"
     ]
    }
   ],
   "source": [
    "e = ['0','2','4','6','8']\n",
    "\n",
    "def is_even(k):\n",
    "    t = False\n",
    "    for a in e:\n",
    "        if k[len(k)-1] == a:\n",
    "            t = True\n",
    "    return t\n",
    "\n",
    "print(is_even('22'))\n",
    "print(is_even('23'))\n",
    "print(is_even('-24'))\n",
    "print(is_even('-25'))\n",
    "        "
   ]
  },
  {
   "cell_type": "markdown",
   "metadata": {},
   "source": [
    "<h2> Q3 1.3"
   ]
  },
  {
   "cell_type": "code",
   "execution_count": 33,
   "metadata": {},
   "outputs": [
    {
     "name": "stdout",
     "output_type": "stream",
     "text": [
      "(0, 87)\n",
      "Data is out of range\n",
      "None\n",
      "(-45, 87)\n"
     ]
    }
   ],
   "source": [
    "def minmax(data):\n",
    "    if len(data) > 0:\n",
    "        mn = data[0]\n",
    "        mx = data[0]\n",
    "        for a in data[1:]:\n",
    "            if mx < a:\n",
    "                mx = a\n",
    "            if mn > a:\n",
    "                mn = a\n",
    "        return (mn,mx)\n",
    "    else:\n",
    "        print(\"Data is out of range\")\n",
    "    \n",
    "    \n",
    "        \n",
    "print(minmax([2,3,1,5,11,87,1,0,45]))\n",
    "print(minmax([]))\n",
    "print(minmax([2,3,1,5,11,87,1,0,-45]))"
   ]
  },
  {
   "cell_type": "markdown",
   "metadata": {},
   "source": [
    "<h2> Q4 1.4"
   ]
  },
  {
   "cell_type": "code",
   "execution_count": 36,
   "metadata": {},
   "outputs": [
    {
     "name": "stdout",
     "output_type": "stream",
     "text": [
      "30\n",
      "0\n",
      "1015\n"
     ]
    }
   ],
   "source": [
    "def squaresum(n):\n",
    "    t = 0\n",
    "    for a in range(1,n):\n",
    "        t += a*a\n",
    "    return t\n",
    "\n",
    "print(squaresum(5))\n",
    "print(squaresum(-10))\n",
    "print(squaresum(15))"
   ]
  },
  {
   "cell_type": "markdown",
   "metadata": {},
   "source": [
    "\n",
    "<h2> Q5 1.5"
   ]
  },
  {
   "cell_type": "code",
   "execution_count": 38,
   "metadata": {},
   "outputs": [
    {
     "name": "stdout",
     "output_type": "stream",
     "text": [
      "30\n",
      "0\n",
      "285\n",
      "1015\n"
     ]
    }
   ],
   "source": [
    "def squaresum(n):\n",
    "    return sum([x*x for x in range(1,n) if x > 0])\n",
    "\n",
    "print(squaresum(5))\n",
    "print(squaresum(-10))\n",
    "print(squaresum(10))\n",
    "print(squaresum(15))"
   ]
  },
  {
   "cell_type": "code",
   "execution_count": null,
   "metadata": {},
   "outputs": [],
   "source": []
  }
 ],
 "metadata": {
  "kernelspec": {
   "display_name": "Python 3",
   "language": "python",
   "name": "python3"
  },
  "language_info": {
   "codemirror_mode": {
    "name": "ipython",
    "version": 3
   },
   "file_extension": ".py",
   "mimetype": "text/x-python",
   "name": "python",
   "nbconvert_exporter": "python",
   "pygments_lexer": "ipython3",
   "version": "3.6.5"
  }
 },
 "nbformat": 4,
 "nbformat_minor": 2
}
