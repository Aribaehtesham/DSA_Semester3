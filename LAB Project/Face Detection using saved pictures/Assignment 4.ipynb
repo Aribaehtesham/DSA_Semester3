{
 "cells": [
  {
   "cell_type": "markdown",
   "metadata": {},
   "source": [
    "### MATRIX "
   ]
  },
  {
   "cell_type": "code",
   "execution_count": 1,
   "metadata": {},
   "outputs": [],
   "source": [
    "class Matrix:\n",
    "    def __init__(self,row,col):\n",
    "        self.rows = row\n",
    "        self.col = col\n",
    "        self._coordinates = [[None]*col for i in range(row)]\n",
    "        self.result = [[0]*col for i in range(row)]\n",
    "    def __getitem__(self,k):\n",
    "        return self._coordinates[k]\n",
    "    def getinput(self):\n",
    "        for i in range(self.rows):\n",
    "            for j in range(self.col):\n",
    "                self._coordinates[i][j] = int(input(\" enter \"))\n",
    "    def __add__(self,other):\n",
    "        for i in range(self.rows):\n",
    "            for j in range(self.col):\n",
    "                self.result[i][j] = self._coordinates[i][j] + other[i][j]\n",
    "        return self.result\n",
    "    def __mul__(self,other):\n",
    "        for i in range(self.rows):\n",
    "            for j in range(self.col):\n",
    "                for k in range(other.col):\n",
    "                    self.result[i][j] +=  self._coordinates[i][k] * other[k][j]\n",
    "        return self.result"
   ]
  },
  {
   "cell_type": "code",
   "execution_count": 2,
   "metadata": {},
   "outputs": [
    {
     "name": "stdout",
     "output_type": "stream",
     "text": [
      " enter 1\n",
      " enter 2\n",
      " enter 3\n",
      " enter 4\n",
      " enter 5\n",
      " enter 6\n",
      " enter 7\n",
      " enter 8\n"
     ]
    }
   ],
   "source": [
    "a = Matrix(2,2)\n",
    "b = Matrix(2,2)\n",
    "c = Matrix(2,2)\n",
    "\n",
    "a.getinput()\n",
    "b.getinput()\n",
    "\n",
    "c = a * b\n",
    "\n"
   ]
  },
  {
   "cell_type": "code",
   "execution_count": 3,
   "metadata": {},
   "outputs": [
    {
     "name": "stdout",
     "output_type": "stream",
     "text": [
      "19\t\t22\t\t\n",
      "43\t\t50\t\t\n"
     ]
    }
   ],
   "source": [
    "for i in range(2):\n",
    "    for j in range(2):\n",
    "        print(c[i][j],end='\\t\\t')\n",
    "    print()"
   ]
  },
  {
   "cell_type": "code",
   "execution_count": null,
   "metadata": {},
   "outputs": [],
   "source": []
  }
 ],
 "metadata": {
  "kernelspec": {
   "display_name": "Python 3",
   "language": "python",
   "name": "python3"
  },
  "language_info": {
   "codemirror_mode": {
    "name": "ipython",
    "version": 3
   },
   "file_extension": ".py",
   "mimetype": "text/x-python",
   "name": "python",
   "nbconvert_exporter": "python",
   "pygments_lexer": "ipython3",
   "version": "3.6.5"
  }
 },
 "nbformat": 4,
 "nbformat_minor": 2
}
