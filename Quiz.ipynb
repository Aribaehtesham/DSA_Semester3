{
 "cells": [
  {
   "cell_type": "markdown",
   "metadata": {},
   "source": [
    "## Double Ended Queue"
   ]
  },
  {
   "cell_type": "code",
   "execution_count": 52,
   "metadata": {},
   "outputs": [],
   "source": [
    "class DoubleQueue:\n",
    "    D_C = 10\n",
    "    def __init__(self):\n",
    "        self._data = [None] * DoubleQueue.D_C\n",
    "        self._size = 0\n",
    "        self._front = 0\n",
    "        self._end = 0\n",
    "    def __len__(self):\n",
    "        return self._size\n",
    "    def is_empty(self):\n",
    "        return self._size == 0\n",
    "    def first(self):\n",
    "        if self.is_empty():\n",
    "            raise Empty(\"Queue is empty\")\n",
    "        return self._data[self._front]\n",
    "    \n",
    "    def last(self):\n",
    "        if self.is_empty():\n",
    "            raise Empty(\"Queue is empty\")\n",
    "        return self._data[self._end]\n",
    "    \n",
    "    \n",
    "    \n",
    "    '''def dequeue(self):\n",
    "        if self.is_empty():\n",
    "            raise Empty(\"Queue is empty\")\n",
    "        ans = self._data[self._front]\n",
    "        self._data[self._front] = None\n",
    "        self._front = (self._front + 1) % len(self._data)\n",
    "        self._size -= 1\n",
    "        return answer'''\n",
    "    '''def enqueue(self,e):\n",
    "        if self._size == len(self._data):\n",
    "            self._resize(2 * len(self._data))\n",
    "        avail = (self._front + self._size) % len(self._data)\n",
    "        self._data[avail] = e\n",
    "        self._size += 1'''\n",
    "    def _resize(self,cap):\n",
    "        old = self._data\n",
    "        self._data = [None] * cap\n",
    "        walk = self._front\n",
    "        for k in range(self._size):\n",
    "            self._data[k] = old[walk]\n",
    "            walk = (1 + walk) % len(old)\n",
    "        self._front = 0\n",
    "        self._end = len(self.data)\n",
    "        \n",
    "    def add_first(self,e):\n",
    "        if self._size == len(self._data):\n",
    "            self._resize(2 * len(self._data))\n",
    "        avail = (self._front + self._size) % len(self._data)\n",
    "        self._data[self._front] = e\n",
    "        self._front \n",
    "        self._size += 1\n",
    "    def add_last(self,e):\n",
    "        if self._size == len(self._data):\n",
    "            self._resize(2 * len(self._data))\n",
    "        avail = (self._end + self._size+1) % len(self._data)\n",
    "        self._data[avail-1] = e\n",
    "        self._size += 1\n",
    "    def delete_first(self):\n",
    "        if self.is_empty():\n",
    "            raise Empty(\"Queue is empty\")\n",
    "        ans = self._data[self._front]\n",
    "        self._data[self._front] = None\n",
    "        self._front = (self._front + 1) % len(self._data)\n",
    "        self._size -= 1\n",
    "        self._front = self._data\n",
    "        return ans\n",
    "    def printData(self):\n",
    "        print(self._size)\n",
    "        print(self._data)"
   ]
  },
  {
   "cell_type": "code",
   "execution_count": 53,
   "metadata": {},
   "outputs": [
    {
     "name": "stdout",
     "output_type": "stream",
     "text": [
      "1\n",
      "[1, None, None, None, None, None, None, None, None, None]\n",
      "2\n",
      "[1, 3, None, None, None, None, None, None, None, None]\n",
      "3\n",
      "[1, 3, 5, None, None, None, None, None, None, None]\n",
      "4\n",
      "[1, 3, 5, 38, None, None, None, None, None, None]\n",
      "3\n",
      "[None, 3, 5, 38, None, None, None, None, None, None]\n",
      "4\n",
      "[None, 3, 5, 38, None, 50, None, None, None, None]\n"
     ]
    }
   ],
   "source": [
    "D = DoubleQueue()\n",
    "D.add_first(1)\n",
    "D.printData()\n",
    "D.add_last(3)\n",
    "D.printData()\n",
    "D.add_first(5)\n",
    "D.printData()\n",
    "D.add_last(38)\n",
    "D.printData()\n",
    "D.delete_first()\n",
    "D.printData()\n",
    "D.add_first(50)\n",
    "D.printData()"
   ]
  },
  {
   "cell_type": "code",
   "execution_count": null,
   "metadata": {},
   "outputs": [],
   "source": []
  },
  {
   "cell_type": "code",
   "execution_count": null,
   "metadata": {},
   "outputs": [],
   "source": []
  }
 ],
 "metadata": {
  "kernelspec": {
   "display_name": "Python 3",
   "language": "python",
   "name": "python3"
  },
  "language_info": {
   "codemirror_mode": {
    "name": "ipython",
    "version": 3
   },
   "file_extension": ".py",
   "mimetype": "text/x-python",
   "name": "python",
   "nbconvert_exporter": "python",
   "pygments_lexer": "ipython3",
   "version": "3.6.5"
  }
 },
 "nbformat": 4,
 "nbformat_minor": 2
}
